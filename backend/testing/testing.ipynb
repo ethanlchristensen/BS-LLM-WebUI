{
 "cells": [
  {
   "cell_type": "code",
   "execution_count": 1,
   "metadata": {},
   "outputs": [],
   "source": [
    "import json\n",
    "import requests\n",
    "\n",
    "erm = \"You are an expert suggestion generator.\\nYou generate three random questions a user could potentially ask to LLM, helping the user get started with a conversation.\\nFor each of the questions you generate, you also generate a bucket title this question / request falls under.\\nSome bucket examples might be:\\n- Programming Questions\\n- Fun Facts\\n- General Knowledge\\n- Story Creation\\n- Jokes and Humor\\n- etc\\n\\nResponse with three questions and their corresponding bucket as a json payload. Make the questions detailed an unique.\\n\\nExample response format:\\n{\\n  \\\"suggestions\\\": [\\n    {\\n      \\\"bucket\\\": \\\"Programming Questions\\\",\\n      \\\"question\\\": \\\"How do I reverse a string in Python?\\\"\\n    },\\n    {\\n      \\\"bucket\\\": \\\"Fun Facts\\\",\\n      \\\"question\\\": \\\"What are some interesting facts about the universe?\\\"\\n    },\\n    {\\n      \\\"bucket\\\": \\\"Story Creation\\\",\\n      \\\"question\\\": \\\"Can you help me write a short story about a time-traveling detective?\\\"\\n    }\\n  ]\\n}\\n\\nOnly repond with the JSON payload surounded in triple back ticks ``` and nothing else.\"\n",
    "\n",
    "def print_json(response: requests.Response):\n",
    "    print(response.status_code)\n",
    "    try:\n",
    "        json_data = response.json()\n",
    "        print(json.dumps(json_data, indent=4))\n",
    "    except json.JSONDecodeError:\n",
    "        print(response.content.decode(\"utf8\"))\n",
    "    except Exception as e:\n",
    "        print(f\"Unknown error -> {e}\")\n",
    "\n",
    "session = requests.Session()\n",
    "\n",
    "login = session.post(\n",
    "    \"http://127.0.0.1:8000/api/v1/login/\",\n",
    "    data=json.dumps({\"username\": \"ethan\", \"password\": \"ethan\"}),\n",
    "    headers={\n",
    "        \"Content-Type\": \"application/json\",\n",
    "    },\n",
    ")\n",
    "\n",
    "token = login.json().get(\"token\")"
   ]
  },
  {
   "cell_type": "code",
   "execution_count": 3,
   "metadata": {},
   "outputs": [
    {
     "name": "stdout",
     "output_type": "stream",
     "text": [
      "200\n",
      "{\n",
      "    \"username\": \"ethan\",\n",
      "    \"email\": \"ethanlchristensen@outlook.com\",\n",
      "    \"first_name\": \"Ethan\",\n",
      "    \"last_name\": \"Christensen\",\n",
      "    \"profile\": {\n",
      "        \"image\": \"http://127.0.0.1:8000/api/v1/media/profile_pics/snow.gif\",\n",
      "        \"bio\": \"hey\"\n",
      "    },\n",
      "    \"settings\": {\n",
      "        \"preferred_model\": {\n",
      "            \"id\": 6,\n",
      "            \"name\": \"llama3.1:latest\",\n",
      "            \"model\": \"llama3.1:latest\",\n",
      "            \"liked\": false,\n",
      "            \"provider\": \"ollama\",\n",
      "            \"color\": \"Gray\"\n",
      "        },\n",
      "        \"stream_responses\": true,\n",
      "        \"theme\": \"dark\"\n",
      "    }\n",
      "}\n"
     ]
    }
   ],
   "source": [
    "response = requests.get(\n",
    "    url=\"http://127.0.0.1:8000/api/v1/user/\",\n",
    "    headers={\"Content-Type\": \"application/json\", \"Authorization\": f\"Token {token}\"},\n",
    ")\n",
    "\n",
    "print_json(response)"
   ]
  },
  {
   "cell_type": "code",
   "execution_count": null,
   "metadata": {},
   "outputs": [],
   "source": [
    "response = requests.get(\n",
    "    url=\"http://127.0.0.1:8000/api/v1/messages/user/19/\",\n",
    "    data=json.dumps({\"is_deleted\": False}),\n",
    "    headers={\"Content-Type\": \"application/json\", \"Authorization\": f\"Token {token}\"},\n",
    ")\n",
    "\n",
    "print_json(response)"
   ]
  },
  {
   "cell_type": "code",
   "execution_count": 2,
   "metadata": {},
   "outputs": [
    {
     "name": "stdout",
     "output_type": "stream",
     "text": [
      "To write a \"Hello, World!\" program in C++, you need to include the iostream library, which provides functionalities for input and output. Here is a simple example:\n",
      "\n",
      "```cpp\n",
      "#include <iostream>\n",
      "\n",
      "int main() {\n",
      "    std::cout << \"Hello, World!\" << std::endl;\n",
      "    return 0;\n",
      "}\n",
      "```\n",
      "\n",
      "Make sure to save your code in a file with a `.cpp` extension, such as `hello_world.cpp`. To compile and run your program, you can use a C++ compiler like `g++`. Here's how you can do it from the command line:\n",
      "\n",
      "1. Open a terminal or command prompt.\n",
      "2. Navigate to the directory where your `hello_world.cpp` file is located.\n",
      "3. Compile the code using the following command:\n",
      "   ```\n",
      "   g++ -o hello_world hello_world.cpp\n",
      "   ```\n",
      "   This will generate an executable file named `hello_world`.\n",
      "4. Run the program by typing:\n",
      "   ```\n",
      "   ./hello_world\n",
      "   ```\n",
      "   You should see the output:\n",
      "   ```\n",
      "   Hello, World!\n",
      "   ```\n",
      "\n",
      "This is a simple C++ program that prints \"Hello, World!\" to the console."
     ]
    }
   ],
   "source": [
    "response = requests.post(\n",
    "    url=\"http://127.0.0.1:8000/api/v1/chat/stream/\",\n",
    "    data=json.dumps({\"model\": \"gpt-4o\", \"provider\": \"openai\", \"messages\": [{\"role\": \"user\", \"content\": \"How do I write hello world in C++?\"}]}),\n",
    "    headers={\"Content-Type\": \"application/json\", \"Authorization\": f\"Token {token}\"},\n",
    "    stream=True\n",
    ")\n",
    "\n",
    "for line in response.iter_lines():\n",
    "    if line:\n",
    "        json_response = json.loads(line.decode(\"utf8\")[5:])\n",
    "        print(json_response[\"message\"][\"content\"], end=\"\", flush=True)"
   ]
  }
 ],
 "metadata": {
  "kernelspec": {
   "display_name": "Python 3",
   "language": "python",
   "name": "python3"
  },
  "language_info": {
   "codemirror_mode": {
    "name": "ipython",
    "version": 3
   },
   "file_extension": ".py",
   "mimetype": "text/x-python",
   "name": "python",
   "nbconvert_exporter": "python",
   "pygments_lexer": "ipython3",
   "version": "3.11.5"
  }
 },
 "nbformat": 4,
 "nbformat_minor": 2
}
