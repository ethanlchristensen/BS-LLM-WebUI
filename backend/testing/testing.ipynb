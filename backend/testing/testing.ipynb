{
 "cells": [
  {
   "cell_type": "code",
   "execution_count": 1,
   "metadata": {},
   "outputs": [],
   "source": [
    "import json\n",
    "import requests"
   ]
  },
  {
   "cell_type": "code",
   "execution_count": 2,
   "metadata": {},
   "outputs": [],
   "source": [
    "def print_json(data):\n",
    "    print(json.dumps(data, indent=4))"
   ]
  },
  {
   "cell_type": "markdown",
   "metadata": {},
   "source": [
    "### Get an access token for this user"
   ]
  },
  {
   "cell_type": "code",
   "execution_count": null,
   "metadata": {},
   "outputs": [],
   "source": [
    "session = requests.Session()\n",
    "\n",
    "login = session.post(\n",
    "    \"http://127.0.0.1:8000/api/v1/login/\",\n",
    "    data=json.dumps({\"username\": \"ethan\", \"password\": \"ethan\"}),\n",
    "    headers={\n",
    "        \"Content-Type\": \"application/json\",\n",
    "    },\n",
    ")\n",
    "\n",
    "token = login.json().get(\"token\")\n",
    "\n",
    "print_json(login.json())\n",
    "print(token)"
   ]
  },
  {
   "cell_type": "markdown",
   "metadata": {},
   "source": [
    "### Get the messages for this user"
   ]
  },
  {
   "cell_type": "code",
   "execution_count": null,
   "metadata": {},
   "outputs": [],
   "source": [
    "user_messages = session.get(\n",
    "    \"http://127.0.0.1:8000/api/v1/messages/user/\",\n",
    "    headers={\n",
    "        \"Content-Type\": \"application/json\",\n",
    "        \"Authorization\": f\"Token {token}\"\n",
    "    },\n",
    ").json()\n",
    "print_json(user_messages)"
   ]
  },
  {
   "cell_type": "markdown",
   "metadata": {},
   "source": [
    "### Get a  a specific message for this user"
   ]
  },
  {
   "cell_type": "code",
   "execution_count": null,
   "metadata": {},
   "outputs": [],
   "source": [
    "user_message = session.get(\n",
    "    \"http://127.0.0.1:8000/api/v1/messages/user/1\",\n",
    "    headers={\n",
    "        \"Content-Type\": \"application/json\",\n",
    "        \"Authorization\": f\"Token {token}\"\n",
    "    },\n",
    ").json()\n",
    "print_json(user_message)"
   ]
  },
  {
   "cell_type": "markdown",
   "metadata": {},
   "source": [
    "### Get the conversations for this user"
   ]
  },
  {
   "cell_type": "code",
   "execution_count": null,
   "metadata": {},
   "outputs": [],
   "source": [
    "conversations = session.get(\n",
    "    \"http://127.0.0.1:8000/api/v1/conversations/\",\n",
    "    headers={\n",
    "        \"Content-Type\": \"application/json\",\n",
    "        \"Authorization\": f\"Token {token}\"\n",
    "    },\n",
    ").json()\n",
    "print_json(conversations)"
   ]
  },
  {
   "cell_type": "markdown",
   "metadata": {},
   "source": [
    "### Get a specific conversation for this user"
   ]
  },
  {
   "cell_type": "code",
   "execution_count": null,
   "metadata": {},
   "outputs": [],
   "source": [
    "conversation = session.get(\n",
    "    \"http://127.0.0.1:8000/api/v1/conversations/2/\",\n",
    "    headers={\n",
    "        \"Content-Type\": \"application/json\",\n",
    "        \"Authorization\": f\"Token {token}\"\n",
    "    },\n",
    ").json()\n",
    "print_json(conversation)"
   ]
  },
  {
   "cell_type": "markdown",
   "metadata": {},
   "source": [
    "### Post a new message for this user"
   ]
  },
  {
   "cell_type": "code",
   "execution_count": null,
   "metadata": {},
   "outputs": [],
   "source": [
    "post_user_message = session.post(\n",
    "    \"http://127.0.0.1:8000/api/v1/messages/user/\",\n",
    "    headers={\n",
    "        \"Content-Type\": \"application/json\",\n",
    "        \"Authorization\": f\"Token {token}\"\n",
    "    },\n",
    "    data=json.dumps({\"conversation\": 2, \"content\": \"Hello there!\"}),\n",
    ").json()\n",
    "print_json(post_user_message)\n",
    "\n",
    "user_id_to_delete = post_user_message[\"id\"]\n",
    "\n",
    "print(f\"Create a new user message with id {user_id_to_delete}\")"
   ]
  },
  {
   "cell_type": "markdown",
   "metadata": {},
   "source": [
    "### Delete the message we just posted for this user"
   ]
  },
  {
   "cell_type": "code",
   "execution_count": null,
   "metadata": {},
   "outputs": [],
   "source": [
    "delete_user_message = session.delete(\n",
    "    f\"http://127.0.0.1:8000/api/v1/messages/user/{user_id_to_delete}/\",\n",
    "    headers={\n",
    "        \"Content-Type\": \"application/json\",\n",
    "        \"Authorization\": f\"Token {token}\"\n",
    "    },\n",
    ")\n",
    "if delete_user_message.status_code not in (200, 201, 202, 203, 204):\n",
    "    print_json(delete_user_message.json())\n",
    "else:\n",
    "    print(delete_user_message.status_code)\n",
    "    print(f\"Successfully deleted message {user_id_to_delete}!\")"
   ]
  },
  {
   "cell_type": "markdown",
   "metadata": {},
   "source": [
    "### Get all the assistant messages for this user"
   ]
  },
  {
   "cell_type": "code",
   "execution_count": null,
   "metadata": {},
   "outputs": [],
   "source": [
    "assistant_messages = session.get(\n",
    "    \"http://127.0.0.1:8000/api/v1/messages/assistant/\",\n",
    "    headers={\n",
    "        \"Content-Type\": \"application/json\",\n",
    "        \"Authorization\": f\"Token {token}\"\n",
    "    },\n",
    ").json()\n",
    "print_json(assistant_messages)"
   ]
  },
  {
   "cell_type": "markdown",
   "metadata": {},
   "source": [
    "### Get a specific assistant message for this user"
   ]
  },
  {
   "cell_type": "code",
   "execution_count": null,
   "metadata": {},
   "outputs": [],
   "source": [
    "assistant_message = session.get(\n",
    "    \"http://127.0.0.1:8000/api/v1/messages/assistant/1\",\n",
    "    headers={\n",
    "        \"Content-Type\": \"application/json\",\n",
    "        \"Authorization\": f\"Token {token}\"\n",
    "    },\n",
    ").json()\n",
    "print_json(assistant_message)"
   ]
  },
  {
   "cell_type": "markdown",
   "metadata": {},
   "source": [
    "### Post a new assistant message for this user"
   ]
  },
  {
   "cell_type": "code",
   "execution_count": null,
   "metadata": {},
   "outputs": [],
   "source": [
    "post_assistant_message = session.post(\n",
    "    \"http://127.0.0.1:8000/api/v1/messages/assistant/\",\n",
    "    headers={\n",
    "        \"Content-Type\": \"application/json\",\n",
    "        \"Authorization\": f\"Token {token}\"\n",
    "    },\n",
    "    data=json.dumps({\"conversation\": 1, \"content\": \"Hello there!\", \"model\": \"Marcus\", \"provider\": \"ollama\"}),\n",
    ").json()\n",
    "print_json(post_assistant_message)\n",
    "\n",
    "assistant_id_to_delete = post_assistant_message[\"id\"]\n",
    "\n",
    "print(f\"Create a new assistant message with id {assistant_id_to_delete}\")"
   ]
  },
  {
   "cell_type": "markdown",
   "metadata": {},
   "source": [
    "### Delete this assistant message we just posted for this user"
   ]
  },
  {
   "cell_type": "code",
   "execution_count": null,
   "metadata": {},
   "outputs": [],
   "source": [
    "delete_assistant_message = session.delete(\n",
    "    f\"http://127.0.0.1:8000/api/v1/messages/assistant/{assistant_id_to_delete}/\",\n",
    "    headers={\n",
    "        \"Content-Type\": \"application/json\",\n",
    "        \"Authorization\": f\"Token {token}\"\n",
    "    },\n",
    ")\n",
    "if delete_assistant_message.status_code not in (200, 201, 202, 203, 204):\n",
    "    print_json(delete_assistant_message.json())\n",
    "else:\n",
    "    print(delete_assistant_message.status_code)\n",
    "    print(f\"Successfully deleted assistant message with id {assistant_id_to_delete}!\")"
   ]
  }
 ],
 "metadata": {
  "kernelspec": {
   "display_name": "bruh-llm-ui-api-Gci52Mb0-py3.11",
   "language": "python",
   "name": "python3"
  },
  "language_info": {
   "codemirror_mode": {
    "name": "ipython",
    "version": 3
   },
   "file_extension": ".py",
   "mimetype": "text/x-python",
   "name": "python",
   "nbconvert_exporter": "python",
   "pygments_lexer": "ipython3",
   "version": "3.11.5"
  }
 },
 "nbformat": 4,
 "nbformat_minor": 2
}
