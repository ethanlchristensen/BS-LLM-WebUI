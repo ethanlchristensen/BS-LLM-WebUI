{
 "cells": [
  {
   "cell_type": "code",
   "execution_count": 1,
   "metadata": {},
   "outputs": [],
   "source": [
    "import json\n",
    "import requests\n",
    "\n",
    "erm = \"You are an expert suggestion generator.\\nYou generate three random questions a user could potentially ask to LLM, helping the user get started with a conversation.\\nFor each of the questions you generate, you also generate a bucket title this question / request falls under.\\nSome bucket examples might be:\\n- Programming Questions\\n- Fun Facts\\n- General Knowledge\\n- Story Creation\\n- Jokes and Humor\\n- etc\\n\\nResponse with three questions and their corresponding bucket as a json payload. Make the questions detailed an unique.\\n\\nExample response format:\\n{\\n  \\\"suggestions\\\": [\\n    {\\n      \\\"bucket\\\": \\\"Programming Questions\\\",\\n      \\\"question\\\": \\\"How do I reverse a string in Python?\\\"\\n    },\\n    {\\n      \\\"bucket\\\": \\\"Fun Facts\\\",\\n      \\\"question\\\": \\\"What are some interesting facts about the universe?\\\"\\n    },\\n    {\\n      \\\"bucket\\\": \\\"Story Creation\\\",\\n      \\\"question\\\": \\\"Can you help me write a short story about a time-traveling detective?\\\"\\n    }\\n  ]\\n}\\n\\nOnly repond with the JSON payload surounded in triple back ticks ``` and nothing else.\"\n",
    "\n",
    "def print_json(response: requests.Response):\n",
    "    print(response.status_code)\n",
    "    try:\n",
    "        json_data = response.json()\n",
    "        print(json.dumps(json_data, indent=4))\n",
    "    except json.JSONDecodeError:\n",
    "        print(response.content.decode(\"utf8\"))\n",
    "    except Exception as e:\n",
    "        print(f\"Unknown error -> {e}\")\n",
    "\n",
    "session = requests.Session()\n",
    "\n",
    "login = session.post(\n",
    "    \"http://127.0.0.1:8000/api/v1/login/\",\n",
    "    data=json.dumps({\"username\": \"ethan\", \"password\": \"ethan\"}),\n",
    "    headers={\n",
    "        \"Content-Type\": \"application/json\",\n",
    "    },\n",
    ")\n",
    "\n",
    "token = login.json().get(\"token\")"
   ]
  },
  {
   "cell_type": "code",
   "execution_count": 4,
   "metadata": {},
   "outputs": [
    {
     "name": "stdout",
     "output_type": "stream",
     "text": [
      "200\n",
      "{\n",
      "    \"username\": \"ethan\",\n",
      "    \"email\": \"\",\n",
      "    \"first_name\": \"\",\n",
      "    \"last_name\": \"\",\n",
      "    \"profile\": {\n",
      "        \"image\": \"http://127.0.0.1:8000/api/v1/media/profile_pics/default/default.jpg\",\n",
      "        \"bio\": null,\n",
      "        \"preferred_model\": null\n",
      "    }\n",
      "}\n"
     ]
    }
   ],
   "source": [
    "ollama = requests.get(\n",
    "    url=\"http://127.0.0.1:8000/api/v1/user/\",\n",
    "    headers={\"Content-Type\": \"application/json\", \"Authorization\": f\"Token {token}\"},\n",
    ")\n",
    "\n",
    "print_json(ollama)"
   ]
  }
 ],
 "metadata": {
  "kernelspec": {
   "display_name": "Python 3",
   "language": "python",
   "name": "python3"
  },
  "language_info": {
   "codemirror_mode": {
    "name": "ipython",
    "version": 3
   },
   "file_extension": ".py",
   "mimetype": "text/x-python",
   "name": "python",
   "nbconvert_exporter": "python",
   "pygments_lexer": "ipython3",
   "version": "3.11.5"
  }
 },
 "nbformat": 4,
 "nbformat_minor": 2
}
