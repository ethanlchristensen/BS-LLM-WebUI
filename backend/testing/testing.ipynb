{
 "cells": [
  {
   "cell_type": "code",
   "execution_count": 1,
   "metadata": {},
   "outputs": [],
   "source": [
    "import json\n",
    "import requests"
   ]
  },
  {
   "cell_type": "code",
   "execution_count": 2,
   "metadata": {},
   "outputs": [],
   "source": [
    "def print_json(data):\n",
    "    print(json.dumps(data, indent=4))"
   ]
  },
  {
   "cell_type": "markdown",
   "metadata": {},
   "source": [
    "### Get an access token for this user"
   ]
  },
  {
   "cell_type": "code",
   "execution_count": 3,
   "metadata": {},
   "outputs": [],
   "source": [
    "session = requests.Session()\n",
    "\n",
    "login = session.post(\n",
    "    \"http://127.0.0.1:8000/api/v1/login/\",\n",
    "    data=json.dumps({\"username\": \"ethan\", \"password\": \"ethan\"}),\n",
    "    headers={\n",
    "        \"Content-Type\": \"application/json\",\n",
    "    },\n",
    ")\n",
    "\n",
    "token = login.json().get(\"token\")"
   ]
  },
  {
   "cell_type": "code",
   "execution_count": 6,
   "metadata": {},
   "outputs": [
    {
     "name": "stdout",
     "output_type": "stream",
     "text": [
      "{\n",
      "    \"id\": \"c2682521-f9a1-4656-803f-7809b1ad2ed7\",\n",
      "    \"title\": \"awesome title!\",\n",
      "    \"created_at\": \"2024-09-19T00:36:09.912221Z\",\n",
      "    \"updated_at\": \"2024-09-19T01:53:41.771135Z\",\n",
      "    \"user\": 1,\n",
      "    \"messages\": [\n",
      "        {\n",
      "            \"id\": 99,\n",
      "            \"content\": \"hey\",\n",
      "            \"created_at\": \"2024-09-19T00:36:11.794527Z\",\n",
      "            \"type\": \"user\"\n",
      "        },\n",
      "        {\n",
      "            \"id\": 90,\n",
      "            \"content\": \"Hey! How's it going? Is there something I can help you with or would you just like to chat?\",\n",
      "            \"created_at\": \"2024-09-19T00:36:13.516482Z\",\n",
      "            \"type\": \"assistant\",\n",
      "            \"model\": \"llama3.1\",\n",
      "            \"provider\": \"ollama\",\n",
      "            \"liked\": false\n",
      "        },\n",
      "        {\n",
      "            \"id\": 100,\n",
      "            \"content\": \"hey\",\n",
      "            \"created_at\": \"2024-09-19T00:36:13.848227Z\",\n",
      "            \"type\": \"user\"\n",
      "        },\n",
      "        {\n",
      "            \"id\": 91,\n",
      "            \"content\": \"What's up?\",\n",
      "            \"created_at\": \"2024-09-19T00:36:13.924977Z\",\n",
      "            \"type\": \"assistant\",\n",
      "            \"model\": \"llama3.1\",\n",
      "            \"provider\": \"ollama\",\n",
      "            \"liked\": false\n",
      "        },\n",
      "        {\n",
      "            \"id\": 101,\n",
      "            \"content\": \"hey\",\n",
      "            \"created_at\": \"2024-09-19T00:36:14.533666Z\",\n",
      "            \"type\": \"user\"\n",
      "        },\n",
      "        {\n",
      "            \"id\": 92,\n",
      "            \"content\": \"Hey! How's it going? Is there something I can help you with or would you like to chat?\",\n",
      "            \"created_at\": \"2024-09-19T00:36:14.770617Z\",\n",
      "            \"type\": \"assistant\",\n",
      "            \"model\": \"llama3.1\",\n",
      "            \"provider\": \"ollama\",\n",
      "            \"liked\": true\n",
      "        },\n",
      "        {\n",
      "            \"id\": 102,\n",
      "            \"content\": \"hey\",\n",
      "            \"created_at\": \"2024-09-19T00:36:15.218302Z\",\n",
      "            \"type\": \"user\"\n",
      "        },\n",
      "        {\n",
      "            \"id\": 93,\n",
      "            \"content\": \"Hey! How's it going? Is there something I can help you with or would you just like to chat?\",\n",
      "            \"created_at\": \"2024-09-19T00:36:15.475932Z\",\n",
      "            \"type\": \"assistant\",\n",
      "            \"model\": \"llama3.1\",\n",
      "            \"provider\": \"ollama\",\n",
      "            \"liked\": true\n",
      "        },\n",
      "        {\n",
      "            \"id\": 103,\n",
      "            \"content\": \"hey\",\n",
      "            \"created_at\": \"2024-09-19T00:36:15.951318Z\",\n",
      "            \"type\": \"user\"\n",
      "        },\n",
      "        {\n",
      "            \"id\": 94,\n",
      "            \"content\": \"Hey back! Is there something I can help you with or would you just like to chat?\",\n",
      "            \"created_at\": \"2024-09-19T00:36:16.174375Z\",\n",
      "            \"type\": \"assistant\",\n",
      "            \"model\": \"llama3.1\",\n",
      "            \"provider\": \"ollama\",\n",
      "            \"liked\": false\n",
      "        }\n",
      "    ],\n",
      "    \"liked\": false\n",
      "}\n"
     ]
    }
   ],
   "source": [
    "update_conversation = requests.put(\n",
    "    url=\"http://127.0.0.1:8000/api/v1/conversations/c2682521-f9a1-4656-803f-7809b1ad2ed7/\",\n",
    "    data=json.dumps({\"title\": \"awesome title!\"}),\n",
    "    headers={\"Content-Type\": \"application/json\", \"Authorization\": f\"Token {token}\"},\n",
    ")\n",
    "print_json(update_conversation.json())"
   ]
  }
 ],
 "metadata": {
  "kernelspec": {
   "display_name": "bruh-llm-ui-api-Gci52Mb0-py3.11",
   "language": "python",
   "name": "python3"
  },
  "language_info": {
   "codemirror_mode": {
    "name": "ipython",
    "version": 3
   },
   "file_extension": ".py",
   "mimetype": "text/x-python",
   "name": "python",
   "nbconvert_exporter": "python",
   "pygments_lexer": "ipython3",
   "version": "3.11.5"
  }
 },
 "nbformat": 4,
 "nbformat_minor": 2
}
