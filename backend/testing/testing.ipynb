{
 "cells": [
  {
   "cell_type": "code",
   "execution_count": 8,
   "metadata": {},
   "outputs": [],
   "source": [
    "import json\n",
    "import requests\n",
    "\n",
    "erm = \"You are an expert suggestion generator.\\nYou generate three random questions a user could potentially ask to LLM, helping the user get started with a conversation.\\nFor each of the questions you generate, you also generate a bucket title this question / request falls under.\\nSome bucket examples might be:\\n- Programming Questions\\n- Fun Facts\\n- General Knowledge\\n- Story Creation\\n- Jokes and Humor\\n- etc\\n\\nResponse with three questions and their corresponding bucket as a json payload. Make the questions detailed an unique.\\n\\nExample response format:\\n{\\n  \\\"suggestions\\\": [\\n    {\\n      \\\"bucket\\\": \\\"Programming Questions\\\",\\n      \\\"question\\\": \\\"How do I reverse a string in Python?\\\"\\n    },\\n    {\\n      \\\"bucket\\\": \\\"Fun Facts\\\",\\n      \\\"question\\\": \\\"What are some interesting facts about the universe?\\\"\\n    },\\n    {\\n      \\\"bucket\\\": \\\"Story Creation\\\",\\n      \\\"question\\\": \\\"Can you help me write a short story about a time-traveling detective?\\\"\\n    }\\n  ]\\n}\\n\\nOnly repond with the JSON payload surounded in triple back ticks ``` and nothing else.\"\n",
    "\n",
    "def print_json(response: requests.Response):\n",
    "    print(response.status_code)\n",
    "    try:\n",
    "        json_data = response.json()\n",
    "        print(json.dumps(json_data, indent=4))\n",
    "    except json.JSONDecodeError:\n",
    "        print(response.content.decode(\"utf8\"))\n",
    "    except Exception as e:\n",
    "        print(f\"Unknown error -> {e}\")\n",
    "\n",
    "session = requests.Session()\n",
    "\n",
    "login = session.post(\n",
    "    \"http://127.0.0.1:8000/api/v1/login/\",\n",
    "    data=json.dumps({\"username\": \"ethan\", \"password\": \"ethan\"}),\n",
    "    headers={\n",
    "        \"Content-Type\": \"application/json\",\n",
    "    },\n",
    ")\n",
    "\n",
    "token = login.json().get(\"token\")"
   ]
  },
  {
   "cell_type": "code",
   "execution_count": 28,
   "metadata": {},
   "outputs": [
    {
     "name": "stdout",
     "output_type": "stream",
     "text": [
      "{'message': \"Model 'qwen2.5-coder:14b' already exists and updated.\", 'success': True}\n",
      "{'message': \"Model 'llama3.2-vision:latest' already exists and updated.\", 'success': True}\n",
      "{'message': \"Model 'llava:34b' already exists and updated.\", 'success': True}\n",
      "{'message': \"Model 'llava:latest' already exists and updated.\", 'success': True}\n",
      "{'message': \"Model 'llama3.2:latest' already exists and updated.\", 'success': True}\n",
      "{'message': \"Model 'llama3.1:latest' already exists and updated.\", 'success': True}\n",
      "{'message': \"Model 'deepseek-coder-v2:latest' already exists and updated.\", 'success': True}\n",
      "{'message': \"Model 'Jade:latest' already exists and updated.\", 'success': True}\n",
      "{'message': \"Model 'Marcus:latest' already exists and updated.\", 'success': True}\n",
      "{'message': \"Model 'Imagine:latest' already exists and updated.\", 'success': True}\n",
      "{'message': \"Model 'mymodel:latest' already exists and updated.\", 'success': True}\n",
      "{'message': \"Model 'llama3:latest' already exists and updated.\", 'success': True}\n",
      "{'message': \"Model 'mxbai-embed-large:latest' already exists and updated.\", 'success': True}\n",
      "{'message': \"Model 'nous-hermes2:10.7b-solar-q5_K_S' already exists and updated.\", 'success': True}\n",
      "{'message': \"Model 'gpt-4-1106-preview' already exists and updated.\", 'success': True}\n",
      "{'message': \"Invalid model data: Model(id='o1-preview', created=1725648897, object='model', owned_by='system')\", 'success': False}\n",
      "{'message': \"Model 'gpt-4' already exists and updated.\", 'success': True}\n",
      "{'message': \"Invalid model data: Model(id='o1-preview-2024-09-12', created=1725648865, object='model', owned_by='system')\", 'success': False}\n",
      "{'message': \"Invalid model data: Model(id='o1-mini-2024-09-12', created=1725648979, object='model', owned_by='system')\", 'success': False}\n",
      "{'message': \"Model 'gpt-4o-2024-11-20' already exists and updated.\", 'success': True}\n",
      "{'message': \"Invalid model data: Model(id='dall-e-2', created=1698798177, object='model', owned_by='system')\", 'success': False}\n",
      "{'message': \"Model 'chatgpt-4o-latest' already exists and updated.\", 'success': True}\n",
      "{'message': \"Model 'gpt-3.5-turbo' already exists and updated.\", 'success': True}\n",
      "{'message': \"Model 'gpt-3.5-turbo-0125' already exists and updated.\", 'success': True}\n",
      "{'message': \"Invalid model data: Model(id='babbage-002', created=1692634615, object='model', owned_by='system')\", 'success': False}\n",
      "{'message': \"Model 'gpt-4-turbo-2024-04-09' already exists and updated.\", 'success': True}\n",
      "{'message': \"Invalid model data: Model(id='davinci-002', created=1692634301, object='model', owned_by='system')\", 'success': False}\n",
      "{'message': \"Invalid model data: Model(id='dall-e-3', created=1698785189, object='model', owned_by='system')\", 'success': False}\n",
      "{'message': \"Model 'gpt-4o-2024-08-06' already exists and updated.\", 'success': True}\n",
      "{'message': \"Invalid model data: Model(id='text-embedding-3-large', created=1705953180, object='model', owned_by='system')\", 'success': False}\n",
      "{'message': \"Model 'gpt-3.5-turbo-16k' already exists and updated.\", 'success': True}\n",
      "{'message': \"Model 'gpt-4o' already exists and updated.\", 'success': True}\n",
      "{'message': \"Model 'gpt-4o-mini-2024-07-18' already exists and updated.\", 'success': True}\n",
      "{'message': \"Model 'gpt-4o-mini' already exists and updated.\", 'success': True}\n",
      "{'message': \"Invalid model data: Model(id='tts-1-hd-1106', created=1699053533, object='model', owned_by='system')\", 'success': False}\n",
      "{'message': \"Invalid model data: Model(id='o1-mini', created=1725649008, object='model', owned_by='system')\", 'success': False}\n",
      "{'message': \"Model 'gpt-4-turbo-preview' already exists and updated.\", 'success': True}\n",
      "{'message': \"Model 'gpt-4-turbo' already exists and updated.\", 'success': True}\n",
      "{'message': \"Invalid model data: Model(id='text-embedding-ada-002', created=1671217299, object='model', owned_by='openai-internal')\", 'success': False}\n",
      "{'message': \"Model 'gpt-4-0613' already exists and updated.\", 'success': True}\n",
      "{'message': \"Invalid model data: Model(id='text-embedding-3-small', created=1705948997, object='model', owned_by='system')\", 'success': False}\n",
      "{'message': \"Invalid model data: Model(id='tts-1-hd', created=1699046015, object='model', owned_by='system')\", 'success': False}\n",
      "{'message': \"Model 'gpt-3.5-turbo-1106' already exists and updated.\", 'success': True}\n",
      "{'message': \"Model 'gpt-3.5-turbo-instruct' already exists and updated.\", 'success': True}\n",
      "{'message': \"Invalid model data: Model(id='gpt-4o-audio-preview', created=1727460443, object='model', owned_by='system')\", 'success': False}\n",
      "{'message': \"Invalid model data: Model(id='whisper-1', created=1677532384, object='model', owned_by='openai-internal')\", 'success': False}\n",
      "{'message': \"Invalid model data: Model(id='gpt-4o-audio-preview-2024-10-01', created=1727389042, object='model', owned_by='system')\", 'success': False}\n",
      "{'message': \"Model 'gpt-4-0125-preview' already exists and updated.\", 'success': True}\n",
      "{'message': \"Invalid model data: Model(id='gpt-4o-realtime-preview', created=1727659998, object='model', owned_by='system')\", 'success': False}\n",
      "{'message': \"Invalid model data: Model(id='tts-1', created=1681940951, object='model', owned_by='openai-internal')\", 'success': False}\n",
      "{'message': \"Invalid model data: Model(id='tts-1-1106', created=1699053241, object='model', owned_by='system')\", 'success': False}\n",
      "{'message': \"Model 'gpt-3.5-turbo-instruct-0914' already exists and updated.\", 'success': True}\n",
      "{'message': \"Model 'gpt-4o-2024-05-13' already exists and updated.\", 'success': True}\n",
      "{'message': \"Invalid model data: Model(id='gpt-4o-realtime-preview-2024-10-01', created=1727131766, object='model', owned_by='system')\", 'success': False}\n"
     ]
    }
   ],
   "source": [
    "response = requests.post(\n",
    "    url=\"http://127.0.0.1:8000/api/v1/models/populate/\",\n",
    "    headers={\"Content-Type\": \"application/json\", \"Authorization\": f\"Token {token}\"},\n",
    ")\n",
    "\n",
    "for v in response.json()[\"data\"]:\n",
    "    print(v)"
   ]
  }
 ],
 "metadata": {
  "kernelspec": {
   "display_name": "Python 3",
   "language": "python",
   "name": "python3"
  },
  "language_info": {
   "codemirror_mode": {
    "name": "ipython",
    "version": 3
   },
   "file_extension": ".py",
   "mimetype": "text/x-python",
   "name": "python",
   "nbconvert_exporter": "python",
   "pygments_lexer": "ipython3",
   "version": "3.11.5"
  }
 },
 "nbformat": 4,
 "nbformat_minor": 2
}
