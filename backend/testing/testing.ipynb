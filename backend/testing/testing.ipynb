{
 "cells": [
  {
   "cell_type": "code",
   "execution_count": 1,
   "metadata": {},
   "outputs": [],
   "source": [
    "import json\n",
    "import requests"
   ]
  },
  {
   "cell_type": "code",
   "execution_count": 2,
   "metadata": {},
   "outputs": [],
   "source": [
    "def print_json(response):\n",
    "    try:\n",
    "        json_data = response.json()\n",
    "        print(json.dumps(json_data, indent=4))\n",
    "    except json.JSONDecodeError:\n",
    "        print(response.content)\n",
    "    except Exception as e:\n",
    "        print(f\"Unknown error -> {e}\")"
   ]
  },
  {
   "cell_type": "markdown",
   "metadata": {},
   "source": [
    "### Get an access token for this user"
   ]
  },
  {
   "cell_type": "code",
   "execution_count": 3,
   "metadata": {},
   "outputs": [],
   "source": [
    "session = requests.Session()\n",
    "\n",
    "login = session.post(\n",
    "    \"http://127.0.0.1:8000/api/v1/login/\",\n",
    "    data=json.dumps({\"username\": \"ethan\", \"password\": \"ethan\"}),\n",
    "    headers={\n",
    "        \"Content-Type\": \"application/json\",\n",
    "    },\n",
    ")\n",
    "\n",
    "token = login.json().get(\"token\")"
   ]
  },
  {
   "cell_type": "code",
   "execution_count": 13,
   "metadata": {},
   "outputs": [
    {
     "name": "stdout",
     "output_type": "stream",
     "text": [
      "200\n",
      "{\n",
      "    \"id\": 1,\n",
      "    \"name\": \"llama3.1:latest\",\n",
      "    \"model\": \"llama3.1:latest\",\n",
      "    \"liked\": false,\n",
      "    \"color\": \"Iris\"\n",
      "}\n"
     ]
    }
   ],
   "source": [
    "conversations = requests.patch(\n",
    "    url=\"http://127.0.0.1:8000/api/v1/models/1/\",\n",
    "    data=json.dumps({\"color\": \"Iris\"}),\n",
    "    headers={\"Content-Type\": \"application/json\", \"Authorization\": f\"Token {token}\"},\n",
    ")\n",
    "print(conversations.status_code)\n",
    "print_json(conversations)\n",
    "\n",
    "# conversations = requests.get(\n",
    "#     url=\"http://127.0.0.1:8000/api/v1/models/\",\n",
    "#     headers={\"Content-Type\": \"application/json\", \"Authorization\": f\"Token {token}\"},\n",
    "# )\n",
    "# print_json(conversations)"
   ]
  }
 ],
 "metadata": {
  "kernelspec": {
   "display_name": "bruh-llm-ui-api-Gci52Mb0-py3.11",
   "language": "python",
   "name": "python3"
  },
  "language_info": {
   "codemirror_mode": {
    "name": "ipython",
    "version": 3
   },
   "file_extension": ".py",
   "mimetype": "text/x-python",
   "name": "python",
   "nbconvert_exporter": "python",
   "pygments_lexer": "ipython3",
   "version": "3.11.5"
  }
 },
 "nbformat": 4,
 "nbformat_minor": 2
}
