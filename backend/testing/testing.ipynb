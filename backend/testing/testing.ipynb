{
 "cells": [
  {
   "cell_type": "code",
   "execution_count": 8,
   "metadata": {},
   "outputs": [],
   "source": [
    "import json\n",
    "import requests"
   ]
  },
  {
   "cell_type": "code",
   "execution_count": 9,
   "metadata": {},
   "outputs": [],
   "source": [
    "def print_json(response):\n",
    "    try:\n",
    "        json_data = response.json()\n",
    "        print(json.dumps(json_data, indent=4))\n",
    "    except json.JSONDecodeError:\n",
    "        print(response.content)\n",
    "    except Exception as e:\n",
    "        print(f\"Unknown error -> {e}\")"
   ]
  },
  {
   "cell_type": "markdown",
   "metadata": {},
   "source": [
    "### Get an access token for this user"
   ]
  },
  {
   "cell_type": "code",
   "execution_count": 10,
   "metadata": {},
   "outputs": [],
   "source": [
    "session = requests.Session()\n",
    "\n",
    "login = session.post(\n",
    "    \"http://127.0.0.1:8000/api/v1/login/\",\n",
    "    data=json.dumps({\"username\": \"ethan\", \"password\": \"ethan\"}),\n",
    "    headers={\n",
    "        \"Content-Type\": \"application/json\",\n",
    "    },\n",
    ")\n",
    "\n",
    "token = login.json().get(\"token\")"
   ]
  },
  {
   "cell_type": "code",
   "execution_count": 11,
   "metadata": {},
   "outputs": [
    {
     "name": "stdout",
     "output_type": "stream",
     "text": [
      "{\n",
      "    \"username\": \"ethan\",\n",
      "    \"email\": \"ethanlchristensen@outlook.com\",\n",
      "    \"first_name\": \"Ethan\",\n",
      "    \"last_name\": \"Christensen\",\n",
      "    \"profile\": {\n",
      "        \"image\": \"http://127.0.0.1:8000/api/v1/media/profile_pics/me5_1k4kyF5.jpg\",\n",
      "        \"bio\": \"Warning: I may be found drinking coffee, reading books, or practicing yoga at odd hours of the day. When I'm not busy being a [Your Profession/Student/etc.], you can catch me [briefly mention your interests]. I'm always up for a good conversation and exploring new ideas.\\r\\n\\r\\nWhich one would you like to use? Or would you like me to come up with something more tailored to your personality?\",\n",
      "        \"preferred_model\": {\n",
      "            \"id\": 3,\n",
      "            \"name\": \"Jade:latest\",\n",
      "            \"model\": \"Jade:latest\",\n",
      "            \"liked\": false\n",
      "        }\n",
      "    }\n",
      "}\n"
     ]
    }
   ],
   "source": [
    "profile = requests.get(\n",
    "    url=\"http://127.0.0.1:8000/api/v1/user/\",\n",
    "    headers={\"Content-Type\": \"application/json\", \"Authorization\": f\"Token {token}\"},\n",
    ")\n",
    "print_json(profile)"
   ]
  },
  {
   "cell_type": "code",
   "execution_count": 14,
   "metadata": {},
   "outputs": [
    {
     "data": {
      "text/plain": [
       "{'username': 'ethan',\n",
       " 'email': 'ethanlchristensen@outlook.com',\n",
       " 'first_name': 'Ethan',\n",
       " 'last_name': 'Christensen',\n",
       " 'profile': {'image': 'http://127.0.0.1:8000/api/v1/media/profile_pics/me5_1k4kyF5.jpg',\n",
       "  'bio': \"Warning: I may be found drinking coffee, reading books, or practicing yoga at odd hours of the day. When I'm not busy being a [Your Profession/Student/etc.], you can catch me [briefly mention your interests]. I'm always up for a good conversation and exploring new ideas.\\r\\n\\r\\nWhich one would you like to use? Or would you like me to come up with something more tailored to your personality?\",\n",
       "  'preferred_model': {'id': 3,\n",
       "   'name': 'Jade:latest',\n",
       "   'model': 'Jade:latest',\n",
       "   'liked': False}},\n",
       " 'images': [1, 1, 1, 1, 1, 1]}"
      ]
     },
     "execution_count": 14,
     "metadata": {},
     "output_type": "execute_result"
    }
   ],
   "source": [
    "profile_ = profile.json()\n",
    "profile_[\"images\"] = [1,1,1,1,1,1]\n",
    "profile_"
   ]
  },
  {
   "cell_type": "code",
   "execution_count": null,
   "metadata": {},
   "outputs": [],
   "source": []
  }
 ],
 "metadata": {
  "kernelspec": {
   "display_name": "bruh-llm-ui-api-Gci52Mb0-py3.11",
   "language": "python",
   "name": "python3"
  },
  "language_info": {
   "codemirror_mode": {
    "name": "ipython",
    "version": 3
   },
   "file_extension": ".py",
   "mimetype": "text/x-python",
   "name": "python",
   "nbconvert_exporter": "python",
   "pygments_lexer": "ipython3",
   "version": "3.11.5"
  }
 },
 "nbformat": 4,
 "nbformat_minor": 2
}
