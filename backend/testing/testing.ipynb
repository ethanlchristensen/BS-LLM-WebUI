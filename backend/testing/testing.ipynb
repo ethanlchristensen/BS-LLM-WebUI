{
 "cells": [
  {
   "cell_type": "code",
   "execution_count": 1,
   "metadata": {},
   "outputs": [],
   "source": [
    "import json\n",
    "import requests\n",
    "\n",
    "def print_json(response):\n",
    "    try:\n",
    "        json_data = response.json()\n",
    "        print(json.dumps(json_data, indent=4))\n",
    "    except json.JSONDecodeError:\n",
    "        print(response.content)\n",
    "    except Exception as e:\n",
    "        print(f\"Unknown error -> {e}\")"
   ]
  },
  {
   "cell_type": "markdown",
   "metadata": {},
   "source": [
    "### Get an access token for this user"
   ]
  },
  {
   "cell_type": "code",
   "execution_count": 4,
   "metadata": {},
   "outputs": [],
   "source": [
    "session = requests.Session()\n",
    "\n",
    "login = session.post(\n",
    "    \"http://127.0.0.1:8000/api/v1/login/\",\n",
    "    data=json.dumps({\"username\": \"ethan\", \"password\": \"ethan\"}),\n",
    "    headers={\n",
    "        \"Content-Type\": \"application/json\",\n",
    "    },\n",
    ")\n",
    "\n",
    "token = login.json().get(\"token\")"
   ]
  },
  {
   "cell_type": "code",
   "execution_count": 5,
   "metadata": {},
   "outputs": [
    {
     "name": "stdout",
     "output_type": "stream",
     "text": [
      "{\n",
      "    \"model\": \"llama3.2\",\n",
      "    \"created_at\": \"2024-09-29T00:15:21.364572Z\",\n",
      "    \"message\": {\n",
      "        \"role\": \"assistant\",\n",
      "        \"content\": \"How can I help you today?\"\n",
      "    },\n",
      "    \"done_reason\": \"stop\",\n",
      "    \"done\": true,\n",
      "    \"total_duration\": 1221687100,\n",
      "    \"load_duration\": 1156824700,\n",
      "    \"prompt_eval_count\": 28,\n",
      "    \"prompt_eval_duration\": 24288000,\n",
      "    \"eval_count\": 8,\n",
      "    \"eval_duration\": 39475000\n",
      "}\n"
     ]
    }
   ],
   "source": [
    "ollama = requests.post(\n",
    "    url=\"http://127.0.0.1:8000/api/v1/ollama/chat/\",\n",
    "    data=json.dumps({\"messages\": [{\"role\": \"user\", \"content\": \"Hey there!\"}], \"model\": \"llama3.2\"}),\n",
    "    headers={\"Content-Type\": \"application/json\", \"Authorization\": f\"Token {token}\"},\n",
    ")\n",
    "\n",
    "print_json(ollama)"
   ]
  }
 ],
 "metadata": {
  "kernelspec": {
   "display_name": "bruh-llm-ui-api-Gci52Mb0-py3.11",
   "language": "python",
   "name": "python3"
  },
  "language_info": {
   "codemirror_mode": {
    "name": "ipython",
    "version": 3
   },
   "file_extension": ".py",
   "mimetype": "text/x-python",
   "name": "python",
   "nbconvert_exporter": "python",
   "pygments_lexer": "ipython3",
   "version": "3.11.5"
  }
 },
 "nbformat": 4,
 "nbformat_minor": 2
}
