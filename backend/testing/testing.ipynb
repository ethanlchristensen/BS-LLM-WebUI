{
 "cells": [
  {
   "cell_type": "code",
   "execution_count": 1,
   "metadata": {},
   "outputs": [],
   "source": [
    "import json\n",
    "import requests\n",
    "\n",
    "def print_json(response: requests.Response):\n",
    "    print(response.status_code)\n",
    "    try:\n",
    "        json_data = response.json()\n",
    "        print(json.dumps(json_data, indent=4))\n",
    "    except json.JSONDecodeError:\n",
    "        print(response.content.decode(\"utf8\"))\n",
    "    except Exception as e:\n",
    "        print(f\"Unknown error -> {e}\")"
   ]
  },
  {
   "cell_type": "code",
   "execution_count": 2,
   "metadata": {},
   "outputs": [],
   "source": [
    "session = requests.Session()\n",
    "\n",
    "login = session.post(\n",
    "    \"http://127.0.0.1:8000/api/v1/login/\",\n",
    "    data=json.dumps({\"username\": \"ethan\", \"password\": \"ethan\"}),\n",
    "    headers={\n",
    "        \"Content-Type\": \"application/json\",\n",
    "    },\n",
    ")\n",
    "\n",
    "token = login.json().get(\"token\")"
   ]
  },
  {
   "cell_type": "code",
   "execution_count": null,
   "metadata": {},
   "outputs": [],
   "source": [
    "ollama = requests.get(\n",
    "    url=\"http://127.0.0.1:8000/api/v1/ollama/suggestions/\",\n",
    "    headers={\"Content-Type\": \"application/json\", \"Authorization\": f\"Token {token}\"},\n",
    ")\n",
    "\n",
    "print_json(ollama)"
   ]
  }
 ],
 "metadata": {
  "kernelspec": {
   "display_name": "Python 3",
   "language": "python",
   "name": "python3"
  },
  "language_info": {
   "codemirror_mode": {
    "name": "ipython",
    "version": 3
   },
   "file_extension": ".py",
   "mimetype": "text/x-python",
   "name": "python",
   "nbconvert_exporter": "python",
   "pygments_lexer": "ipython3",
   "version": "3.11.5"
  }
 },
 "nbformat": 4,
 "nbformat_minor": 2
}
