{
 "cells": [
  {
   "cell_type": "code",
   "execution_count": 1,
   "metadata": {},
   "outputs": [],
   "source": [
    "import json\n",
    "import requests"
   ]
  },
  {
   "cell_type": "code",
   "execution_count": 2,
   "metadata": {},
   "outputs": [],
   "source": [
    "def print_json(data):\n",
    "    print(json.dumps(data, indent=4))"
   ]
  },
  {
   "cell_type": "markdown",
   "metadata": {},
   "source": [
    "### Get an access token for this user"
   ]
  },
  {
   "cell_type": "code",
   "execution_count": 3,
   "metadata": {},
   "outputs": [],
   "source": [
    "session = requests.Session()\n",
    "\n",
    "login = session.post(\n",
    "    \"http://127.0.0.1:8000/api/v1/login/\",\n",
    "    data=json.dumps({\"username\": \"ethan\", \"password\": \"ethan\"}),\n",
    "    headers={\n",
    "        \"Content-Type\": \"application/json\",\n",
    "    },\n",
    ")\n",
    "\n",
    "token = login.json().get(\"token\")"
   ]
  },
  {
   "cell_type": "code",
   "execution_count": 5,
   "metadata": {},
   "outputs": [
    {
     "name": "stdout",
     "output_type": "stream",
     "text": [
      "[\n",
      "    {\n",
      "        \"id\": 1,\n",
      "        \"name\": \"llama3.1:latest\",\n",
      "        \"model\": \"llama3.1:latest\",\n",
      "        \"liked\": false\n",
      "    },\n",
      "    {\n",
      "        \"id\": 2,\n",
      "        \"name\": \"deepseek-coder-v2:latest\",\n",
      "        \"model\": \"deepseek-coder-v2:latest\",\n",
      "        \"liked\": false\n",
      "    },\n",
      "    {\n",
      "        \"id\": 3,\n",
      "        \"name\": \"Jade:latest\",\n",
      "        \"model\": \"Jade:latest\",\n",
      "        \"liked\": false\n",
      "    },\n",
      "    {\n",
      "        \"id\": 4,\n",
      "        \"name\": \"Marcus:latest\",\n",
      "        \"model\": \"Marcus:latest\",\n",
      "        \"liked\": false\n",
      "    },\n",
      "    {\n",
      "        \"id\": 5,\n",
      "        \"name\": \"Imagine:latest\",\n",
      "        \"model\": \"Imagine:latest\",\n",
      "        \"liked\": false\n",
      "    },\n",
      "    {\n",
      "        \"id\": 6,\n",
      "        \"name\": \"mymodel:latest\",\n",
      "        \"model\": \"mymodel:latest\",\n",
      "        \"liked\": false\n",
      "    },\n",
      "    {\n",
      "        \"id\": 7,\n",
      "        \"name\": \"llama3:latest\",\n",
      "        \"model\": \"llama3:latest\",\n",
      "        \"liked\": false\n",
      "    },\n",
      "    {\n",
      "        \"id\": 8,\n",
      "        \"name\": \"mxbai-embed-large:latest\",\n",
      "        \"model\": \"mxbai-embed-large:latest\",\n",
      "        \"liked\": false\n",
      "    },\n",
      "    {\n",
      "        \"id\": 9,\n",
      "        \"name\": \"nous-hermes2:10.7b-solar-q5_K_S\",\n",
      "        \"model\": \"nous-hermes2:10.7b-solar-q5_K_S\",\n",
      "        \"liked\": false\n",
      "    }\n",
      "]\n"
     ]
    }
   ],
   "source": [
    "update_conversation = requests.get(\n",
    "    url=\"http://127.0.0.1:8000/api/v1/models/\",\n",
    "    data=json.dumps({\"title\": \"awesome title!\"}),\n",
    "    headers={\"Content-Type\": \"application/json\", \"Authorization\": f\"Token {token}\"},\n",
    ")\n",
    "print_json(update_conversation.json())"
   ]
  }
 ],
 "metadata": {
  "kernelspec": {
   "display_name": "bruh-llm-ui-api-Gci52Mb0-py3.11",
   "language": "python",
   "name": "python3"
  },
  "language_info": {
   "codemirror_mode": {
    "name": "ipython",
    "version": 3
   },
   "file_extension": ".py",
   "mimetype": "text/x-python",
   "name": "python",
   "nbconvert_exporter": "python",
   "pygments_lexer": "ipython3",
   "version": "3.11.5"
  }
 },
 "nbformat": 4,
 "nbformat_minor": 2
}
