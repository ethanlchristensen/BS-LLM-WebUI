{
 "cells": [
  {
   "cell_type": "code",
   "execution_count": 1,
   "metadata": {},
   "outputs": [],
   "source": [
    "import json\n",
    "import requests"
   ]
  },
  {
   "cell_type": "code",
   "execution_count": 2,
   "metadata": {},
   "outputs": [],
   "source": [
    "def print_json(data):\n",
    "    print(json.dumps(data, indent=4))"
   ]
  },
  {
   "cell_type": "markdown",
   "metadata": {},
   "source": [
    "### Get an access token for this user"
   ]
  },
  {
   "cell_type": "code",
   "execution_count": 3,
   "metadata": {},
   "outputs": [
    {
     "name": "stdout",
     "output_type": "stream",
     "text": [
      "{\n",
      "    \"expiry\": \"2024-09-15T10:49:57.467114Z\",\n",
      "    \"token\": \"1c9cf5fc961c90d8399d5efdc9e76a0b53aab21907f954143faaceb6083c1350\"\n",
      "}\n",
      "1c9cf5fc961c90d8399d5efdc9e76a0b53aab21907f954143faaceb6083c1350\n"
     ]
    }
   ],
   "source": [
    "session = requests.Session()\n",
    "\n",
    "login = session.post(\n",
    "    \"http://127.0.0.1:8000/api/v1/login/\",\n",
    "    data=json.dumps({\"username\": \"ethan\", \"password\": \"ethan\"}),\n",
    "    headers={\n",
    "        \"Content-Type\": \"application/json\",\n",
    "    },\n",
    ")\n",
    "\n",
    "token = login.json().get(\"token\")\n",
    "\n",
    "print_json(login.json())\n",
    "print(token)"
   ]
  },
  {
   "cell_type": "markdown",
   "metadata": {},
   "source": [
    "### Get the messages for this user"
   ]
  },
  {
   "cell_type": "code",
   "execution_count": 4,
   "metadata": {},
   "outputs": [
    {
     "name": "stdout",
     "output_type": "stream",
     "text": [
      "[\n",
      "    {\n",
      "        \"id\": 39,\n",
      "        \"content\": \"hey\",\n",
      "        \"created_at\": \"2024-09-14T05:25:53.605203Z\",\n",
      "        \"conversation\": 4\n",
      "    },\n",
      "    {\n",
      "        \"id\": 42,\n",
      "        \"content\": \"what;s up\",\n",
      "        \"created_at\": \"2024-09-14T05:51:55.832578Z\",\n",
      "        \"conversation\": 4\n",
      "    },\n",
      "    {\n",
      "        \"id\": 43,\n",
      "        \"content\": \"how do I write a server in c++?\",\n",
      "        \"created_at\": \"2024-09-14T05:52:07.506903Z\",\n",
      "        \"conversation\": 4\n",
      "    },\n",
      "    {\n",
      "        \"id\": 44,\n",
      "        \"content\": \"hey\",\n",
      "        \"created_at\": \"2024-09-14T20:46:52.590652Z\",\n",
      "        \"conversation\": 4\n",
      "    },\n",
      "    {\n",
      "        \"id\": 45,\n",
      "        \"content\": \"hey\",\n",
      "        \"created_at\": \"2024-09-14T20:47:28.957768Z\",\n",
      "        \"conversation\": 4\n",
      "    }\n",
      "]\n"
     ]
    }
   ],
   "source": [
    "user_messages = session.get(\n",
    "    \"http://127.0.0.1:8000/api/v1/messages/user/\",\n",
    "    headers={\n",
    "        \"Content-Type\": \"application/json\",\n",
    "        \"Authorization\": f\"Token {token}\"\n",
    "    },\n",
    ").json()\n",
    "print_json(user_messages)"
   ]
  },
  {
   "cell_type": "markdown",
   "metadata": {},
   "source": [
    "### Get a  a specific message for this user"
   ]
  },
  {
   "cell_type": "code",
   "execution_count": 5,
   "metadata": {},
   "outputs": [
    {
     "name": "stdout",
     "output_type": "stream",
     "text": [
      "{\n",
      "    \"detail\": \"No UserMessage matches the given query.\"\n",
      "}\n"
     ]
    }
   ],
   "source": [
    "user_message = session.get(\n",
    "    \"http://127.0.0.1:8000/api/v1/messages/user/1\",\n",
    "    headers={\n",
    "        \"Content-Type\": \"application/json\",\n",
    "        \"Authorization\": f\"Token {token}\"\n",
    "    },\n",
    ").json()\n",
    "print_json(user_message)"
   ]
  },
  {
   "cell_type": "markdown",
   "metadata": {},
   "source": [
    "### Get the conversations for this user"
   ]
  },
  {
   "cell_type": "code",
   "execution_count": 6,
   "metadata": {},
   "outputs": [
    {
     "name": "stdout",
     "output_type": "stream",
     "text": [
      "[\n",
      "    {\n",
      "        \"id\": 2,\n",
      "        \"title\": \"Hello World Python \\ud83d\\udc0d\",\n",
      "        \"created_at\": \"2024-09-09T00:05:34.286368Z\",\n",
      "        \"updated_at\": \"2024-09-09T00:05:34.286368Z\",\n",
      "        \"user\": 1\n",
      "    },\n",
      "    {\n",
      "        \"id\": 4,\n",
      "        \"title\": \"Let's suck some cock\\ud83d\\ude08\",\n",
      "        \"created_at\": \"2024-09-14T04:47:05.080792Z\",\n",
      "        \"updated_at\": \"2024-09-14T04:47:05.080792Z\",\n",
      "        \"user\": 1\n",
      "    }\n",
      "]\n"
     ]
    }
   ],
   "source": [
    "conversations = session.get(\n",
    "    \"http://127.0.0.1:8000/api/v1/conversations/\",\n",
    "    headers={\n",
    "        \"Content-Type\": \"application/json\",\n",
    "        \"Authorization\": f\"Token {token}\"\n",
    "    },\n",
    ").json()\n",
    "print_json(conversations)"
   ]
  },
  {
   "cell_type": "markdown",
   "metadata": {},
   "source": [
    "### Get a specific conversation for this user"
   ]
  },
  {
   "cell_type": "code",
   "execution_count": 16,
   "metadata": {},
   "outputs": [
    {
     "name": "stdout",
     "output_type": "stream",
     "text": [
      "{\n",
      "    \"id\": 4,\n",
      "    \"title\": \"Let's suck some cock\\ud83d\\ude08\",\n",
      "    \"created_at\": \"2024-09-14T04:47:05.080792Z\",\n",
      "    \"updated_at\": \"2024-09-14T04:47:05.080792Z\",\n",
      "    \"user\": 1,\n",
      "    \"messages\": [\n",
      "        {\n",
      "            \"id\": 39,\n",
      "            \"content\": \"hey\",\n",
      "            \"created_at\": \"2024-09-14T05:25:53.605203Z\",\n",
      "            \"type\": \"user\"\n",
      "        },\n",
      "        {\n",
      "            \"id\": 42,\n",
      "            \"content\": \"what;s up\",\n",
      "            \"created_at\": \"2024-09-14T05:51:55.832578Z\",\n",
      "            \"type\": \"user\"\n",
      "        },\n",
      "        {\n",
      "            \"id\": 20,\n",
      "            \"content\": \"Not much from my end. How about you? What's on your mind? Want to chat about something in particular or just shoot the breeze? I'm all ears (or rather, all text).\",\n",
      "            \"created_at\": \"2024-09-14T05:51:57.699336Z\",\n",
      "            \"type\": \"assistant\",\n",
      "            \"model\": \"llama3.1\",\n",
      "            \"provider\": \"ollama\"\n",
      "        },\n",
      "        {\n",
      "            \"id\": 43,\n",
      "            \"content\": \"how do I write a server in c++?\",\n",
      "            \"created_at\": \"2024-09-14T05:52:07.506903Z\",\n",
      "            \"type\": \"user\"\n",
      "        },\n",
      "        {\n",
      "            \"id\": 21,\n",
      "            \"content\": \"Writing a server in C++ involves several steps, including:\\n\\n1. **Choosing a networking library**: You'll need to select a library that provides the necessary functionality for creating and managing network sockets. Popular choices include:\\n\\t* `socket` (a built-in POSIX library)\\n\\t* `boost::asio` (a high-performance asynchronous I/O library)\\n\\t* `cpp-netlib` (a C++11 networking library)\\n2. **Understanding TCP/IP basics**: Familiarize yourself with the basics of TCP/IP, including sockets, connections, and communication protocols.\\n3. **Defining server logic**: Decide what your server will do, such as:\\n\\t* Handling incoming requests\\n\\t* Processing data\\n\\t* Returning responses\\n\\nHere's a simple example using `socket` to demonstrate basic server functionality:\\n\\n**Example Server (using socket)**\\n\\n```cpp\\n#include <sys/socket.h>\\n#include <netinet/in.h>\\n#include <arpa/inet.h>\\n#include <unistd.h>\\n\\n#define PORT 8080\\n#define BUFFER_SIZE 1024\\n\\nint main() {\\n    int server_fd, new_socket;\\n    struct sockaddr_in address;\\n    int addrlen = sizeof(address);\\n    char buffer[BUFFER_SIZE];\\n\\n    // Create a socket\\n    if ((server_fd = socket(AF_INET, SOCK_STREAM, 0)) == 0) {\\n        perror(\\\"socket failed\\\");\\n        exit(EXIT_FAILURE);\\n    }\\n\\n    // Set address and port number\\n    address.sin_family = AF_INET;\\n    address.sin_addr.s_addr = INADDR_ANY;\\n    address.sin_port = htons(PORT);\\n\\n    // Bind the socket to the specified address and port\\n    if (bind(server_fd, (struct sockaddr *)&address, sizeof(address)) < 0) {\\n        perror(\\\"bind failed\\\");\\n        exit(EXIT_FAILURE);\\n    }\\n\\n    // Listen for incoming connections\\n    if (listen(server_fd, 3) < 0) {\\n        perror(\\\"listen failed\\\");\\n        exit(EXIT_FAILURE);\\n    }\\n\\n    printf(\\\"Server listening on port %d...\\\\n\\\", PORT);\\n\\n    while (true) {\\n        new_socket = accept(server_fd, (struct sockaddr *)&address, (socklen_t*)&addrlen);\\n        if (new_socket < 0) {\\n            perror(\\\"accept failed\\\");\\n            continue;\\n        }\\n\\n        // Receive data from the client\\n        read(new_socket, buffer, BUFFER_SIZE);\\n\\n        printf(\\\"Received message: %s\\\\n\\\", buffer);\\n\\n        // Send response back to the client\\n        send(new_socket, \\\"Hello, client!\\\", strlen(\\\"Hello, client!\\\"), 0);\\n    }\\n\\n    return 0;\\n}\\n```\\n\\nThis example creates a simple server that listens for incoming connections and responds with a hardcoded message. However, this is a very basic example, and you'll likely need to add more functionality (e.g., handling multiple clients, implementing authentication, etc.).\\n\\n**Using boost::asio**\\n\\nIf you choose to use `boost::asio`, your code will look similar but with additional Boost libraries included:\\n\\n```cpp\\n#include <boost/asio.hpp>\\n#include <iostream>\\n\\nint main() {\\n    boost::asio::io_service io_service;\\n    boost::asio::ip::tcp::acceptor acceptor(io_service, boost::asio::ip::tcp::endpoint(boost::asio::ip::tcp::v4(), 8080));\\n\\n    while (true) {\\n        boost::shared_ptr<boost::asio::ip::tcp::socket> socket = acceptor.accept();\\n\\n        // Receive data from the client\\n        char buffer[1024];\\n        boost::asio::read(*socket, boost::asio::buffer(buffer), boost::asio::transfer_all());\\n\\n        printf(\\\"Received message: %s\\\\n\\\", buffer);\\n\\n        // Send response back to the client\\n        std::string response = \\\"Hello, client!\\\";\\n        boost::asio::write(*socket, boost::asio::buffer(response));\\n    }\\n\\n    return 0;\\n}\\n```\\n\\nRemember to link against the necessary libraries (e.g., `boost_system`, `boost_thread`) when compiling your code.\\n\\nThis is a basic outline for creating a server in C++. Depending on your requirements and the complexity of your server, you may need to add more functionality or use additional libraries.\",\n",
      "            \"created_at\": \"2024-09-14T05:52:15.298965Z\",\n",
      "            \"type\": \"assistant\",\n",
      "            \"model\": \"llama3.1\",\n",
      "            \"provider\": \"ollama\"\n",
      "        },\n",
      "        {\n",
      "            \"id\": 44,\n",
      "            \"content\": \"hey\",\n",
      "            \"created_at\": \"2024-09-14T20:46:52.590652Z\",\n",
      "            \"type\": \"user\"\n",
      "        },\n",
      "        {\n",
      "            \"id\": 22,\n",
      "            \"content\": \"Hey! How's it going? Is there something I can help you with or would you just like to chat?\",\n",
      "            \"created_at\": \"2024-09-14T20:46:56.354136Z\",\n",
      "            \"type\": \"assistant\",\n",
      "            \"model\": \"llama3.1\",\n",
      "            \"provider\": \"ollama\"\n",
      "        },\n",
      "        {\n",
      "            \"id\": 45,\n",
      "            \"content\": \"hey\",\n",
      "            \"created_at\": \"2024-09-14T20:47:28.957768Z\",\n",
      "            \"type\": \"user\"\n",
      "        },\n",
      "        {\n",
      "            \"id\": 23,\n",
      "            \"content\": \"Hey! How's it going? Is there something I can help you with or would you just like to chat?\",\n",
      "            \"created_at\": \"2024-09-14T20:47:29.374304Z\",\n",
      "            \"type\": \"assistant\",\n",
      "            \"model\": \"llama3.1\",\n",
      "            \"provider\": \"ollama\"\n",
      "        }\n",
      "    ]\n",
      "}\n"
     ]
    }
   ],
   "source": [
    "conversation = session.get(\n",
    "    \"http://127.0.0.1:8000/api/v1/conversations/4/\",\n",
    "    headers={\n",
    "        \"Content-Type\": \"application/json\",\n",
    "        \"Authorization\": f\"Token {token}\"\n",
    "    },\n",
    ").json()\n",
    "print_json(conversation)"
   ]
  },
  {
   "cell_type": "markdown",
   "metadata": {},
   "source": [
    "### Post a new message for this user"
   ]
  },
  {
   "cell_type": "code",
   "execution_count": 17,
   "metadata": {},
   "outputs": [
    {
     "name": "stdout",
     "output_type": "stream",
     "text": [
      "{\n",
      "    \"id\": 61,\n",
      "    \"content\": \"Hello there!\",\n",
      "    \"created_at\": \"2024-09-15T02:02:38.069247Z\",\n",
      "    \"conversation\": 2\n",
      "}\n",
      "Create a new user message with id 61\n"
     ]
    }
   ],
   "source": [
    "post_user_message = session.post(\n",
    "    \"http://127.0.0.1:8000/api/v1/messages/user/\",\n",
    "    headers={\n",
    "        \"Content-Type\": \"application/json\",\n",
    "        \"Authorization\": f\"Token {token}\"\n",
    "    },\n",
    "    data=json.dumps({\"conversation\": 2, \"content\": \"Hello there!\"}),\n",
    ").json()\n",
    "print_json(post_user_message)\n",
    "\n",
    "user_id_to_delete = post_user_message[\"id\"]\n",
    "\n",
    "print(f\"Create a new user message with id {user_id_to_delete}\")"
   ]
  },
  {
   "cell_type": "markdown",
   "metadata": {},
   "source": [
    "### Delete the message we just posted for this user"
   ]
  },
  {
   "cell_type": "code",
   "execution_count": 9,
   "metadata": {},
   "outputs": [
    {
     "name": "stdout",
     "output_type": "stream",
     "text": [
      "204\n",
      "Successfully deleted message 46!\n"
     ]
    }
   ],
   "source": [
    "delete_user_message = session.delete(\n",
    "    f\"http://127.0.0.1:8000/api/v1/messages/user/{user_id_to_delete}/\",\n",
    "    headers={\n",
    "        \"Content-Type\": \"application/json\",\n",
    "        \"Authorization\": f\"Token {token}\"\n",
    "    },\n",
    ")\n",
    "if delete_user_message.status_code not in (200, 201, 202, 203, 204):\n",
    "    print_json(delete_user_message.json())\n",
    "else:\n",
    "    print(delete_user_message.status_code)\n",
    "    print(delete_user_message.content.decode(\"utf8\"))\n",
    "    print(f\"Successfully deleted message {user_id_to_delete}!\")"
   ]
  },
  {
   "cell_type": "markdown",
   "metadata": {},
   "source": [
    "### Get all the assistant messages for this user"
   ]
  },
  {
   "cell_type": "code",
   "execution_count": 10,
   "metadata": {},
   "outputs": [
    {
     "name": "stdout",
     "output_type": "stream",
     "text": [
      "[\n",
      "    {\n",
      "        \"id\": 20,\n",
      "        \"content\": \"Not much from my end. How about you? What's on your mind? Want to chat about something in particular or just shoot the breeze? I'm all ears (or rather, all text).\",\n",
      "        \"model\": \"llama3.1\",\n",
      "        \"provider\": \"ollama\",\n",
      "        \"created_at\": \"2024-09-14T05:51:57.699336Z\",\n",
      "        \"conversation\": 4\n",
      "    },\n",
      "    {\n",
      "        \"id\": 21,\n",
      "        \"content\": \"Writing a server in C++ involves several steps, including:\\n\\n1. **Choosing a networking library**: You'll need to select a library that provides the necessary functionality for creating and managing network sockets. Popular choices include:\\n\\t* `socket` (a built-in POSIX library)\\n\\t* `boost::asio` (a high-performance asynchronous I/O library)\\n\\t* `cpp-netlib` (a C++11 networking library)\\n2. **Understanding TCP/IP basics**: Familiarize yourself with the basics of TCP/IP, including sockets, connections, and communication protocols.\\n3. **Defining server logic**: Decide what your server will do, such as:\\n\\t* Handling incoming requests\\n\\t* Processing data\\n\\t* Returning responses\\n\\nHere's a simple example using `socket` to demonstrate basic server functionality:\\n\\n**Example Server (using socket)**\\n\\n```cpp\\n#include <sys/socket.h>\\n#include <netinet/in.h>\\n#include <arpa/inet.h>\\n#include <unistd.h>\\n\\n#define PORT 8080\\n#define BUFFER_SIZE 1024\\n\\nint main() {\\n    int server_fd, new_socket;\\n    struct sockaddr_in address;\\n    int addrlen = sizeof(address);\\n    char buffer[BUFFER_SIZE];\\n\\n    // Create a socket\\n    if ((server_fd = socket(AF_INET, SOCK_STREAM, 0)) == 0) {\\n        perror(\\\"socket failed\\\");\\n        exit(EXIT_FAILURE);\\n    }\\n\\n    // Set address and port number\\n    address.sin_family = AF_INET;\\n    address.sin_addr.s_addr = INADDR_ANY;\\n    address.sin_port = htons(PORT);\\n\\n    // Bind the socket to the specified address and port\\n    if (bind(server_fd, (struct sockaddr *)&address, sizeof(address)) < 0) {\\n        perror(\\\"bind failed\\\");\\n        exit(EXIT_FAILURE);\\n    }\\n\\n    // Listen for incoming connections\\n    if (listen(server_fd, 3) < 0) {\\n        perror(\\\"listen failed\\\");\\n        exit(EXIT_FAILURE);\\n    }\\n\\n    printf(\\\"Server listening on port %d...\\\\n\\\", PORT);\\n\\n    while (true) {\\n        new_socket = accept(server_fd, (struct sockaddr *)&address, (socklen_t*)&addrlen);\\n        if (new_socket < 0) {\\n            perror(\\\"accept failed\\\");\\n            continue;\\n        }\\n\\n        // Receive data from the client\\n        read(new_socket, buffer, BUFFER_SIZE);\\n\\n        printf(\\\"Received message: %s\\\\n\\\", buffer);\\n\\n        // Send response back to the client\\n        send(new_socket, \\\"Hello, client!\\\", strlen(\\\"Hello, client!\\\"), 0);\\n    }\\n\\n    return 0;\\n}\\n```\\n\\nThis example creates a simple server that listens for incoming connections and responds with a hardcoded message. However, this is a very basic example, and you'll likely need to add more functionality (e.g., handling multiple clients, implementing authentication, etc.).\\n\\n**Using boost::asio**\\n\\nIf you choose to use `boost::asio`, your code will look similar but with additional Boost libraries included:\\n\\n```cpp\\n#include <boost/asio.hpp>\\n#include <iostream>\\n\\nint main() {\\n    boost::asio::io_service io_service;\\n    boost::asio::ip::tcp::acceptor acceptor(io_service, boost::asio::ip::tcp::endpoint(boost::asio::ip::tcp::v4(), 8080));\\n\\n    while (true) {\\n        boost::shared_ptr<boost::asio::ip::tcp::socket> socket = acceptor.accept();\\n\\n        // Receive data from the client\\n        char buffer[1024];\\n        boost::asio::read(*socket, boost::asio::buffer(buffer), boost::asio::transfer_all());\\n\\n        printf(\\\"Received message: %s\\\\n\\\", buffer);\\n\\n        // Send response back to the client\\n        std::string response = \\\"Hello, client!\\\";\\n        boost::asio::write(*socket, boost::asio::buffer(response));\\n    }\\n\\n    return 0;\\n}\\n```\\n\\nRemember to link against the necessary libraries (e.g., `boost_system`, `boost_thread`) when compiling your code.\\n\\nThis is a basic outline for creating a server in C++. Depending on your requirements and the complexity of your server, you may need to add more functionality or use additional libraries.\",\n",
      "        \"model\": \"llama3.1\",\n",
      "        \"provider\": \"ollama\",\n",
      "        \"created_at\": \"2024-09-14T05:52:15.298965Z\",\n",
      "        \"conversation\": 4\n",
      "    },\n",
      "    {\n",
      "        \"id\": 22,\n",
      "        \"content\": \"Hey! How's it going? Is there something I can help you with or would you just like to chat?\",\n",
      "        \"model\": \"llama3.1\",\n",
      "        \"provider\": \"ollama\",\n",
      "        \"created_at\": \"2024-09-14T20:46:56.354136Z\",\n",
      "        \"conversation\": 4\n",
      "    },\n",
      "    {\n",
      "        \"id\": 23,\n",
      "        \"content\": \"Hey! How's it going? Is there something I can help you with or would you just like to chat?\",\n",
      "        \"model\": \"llama3.1\",\n",
      "        \"provider\": \"ollama\",\n",
      "        \"created_at\": \"2024-09-14T20:47:29.374304Z\",\n",
      "        \"conversation\": 4\n",
      "    }\n",
      "]\n"
     ]
    }
   ],
   "source": [
    "assistant_messages = session.get(\n",
    "    \"http://127.0.0.1:8000/api/v1/messages/assistant/\",\n",
    "    headers={\n",
    "        \"Content-Type\": \"application/json\",\n",
    "        \"Authorization\": f\"Token {token}\"\n",
    "    },\n",
    ").json()\n",
    "print_json(assistant_messages)"
   ]
  },
  {
   "cell_type": "markdown",
   "metadata": {},
   "source": [
    "### Get a specific assistant message for this user"
   ]
  },
  {
   "cell_type": "code",
   "execution_count": 11,
   "metadata": {},
   "outputs": [
    {
     "name": "stdout",
     "output_type": "stream",
     "text": [
      "{\n",
      "    \"detail\": \"No AssistantMessage matches the given query.\"\n",
      "}\n"
     ]
    }
   ],
   "source": [
    "assistant_message = session.get(\n",
    "    \"http://127.0.0.1:8000/api/v1/messages/assistant/1\",\n",
    "    headers={\n",
    "        \"Content-Type\": \"application/json\",\n",
    "        \"Authorization\": f\"Token {token}\"\n",
    "    },\n",
    ").json()\n",
    "print_json(assistant_message)"
   ]
  },
  {
   "cell_type": "markdown",
   "metadata": {},
   "source": [
    "### Post a new assistant message for this user"
   ]
  },
  {
   "cell_type": "code",
   "execution_count": 12,
   "metadata": {},
   "outputs": [
    {
     "name": "stdout",
     "output_type": "stream",
     "text": [
      "{\n",
      "    \"id\": 24,\n",
      "    \"content\": \"Hello there!\",\n",
      "    \"model\": \"Marcus\",\n",
      "    \"provider\": \"ollama\",\n",
      "    \"created_at\": \"2024-09-15T00:49:57.617101Z\",\n",
      "    \"conversation\": 1\n",
      "}\n",
      "Create a new assistant message with id 24\n"
     ]
    }
   ],
   "source": [
    "post_assistant_message = session.post(\n",
    "    \"http://127.0.0.1:8000/api/v1/messages/assistant/\",\n",
    "    headers={\n",
    "        \"Content-Type\": \"application/json\",\n",
    "        \"Authorization\": f\"Token {token}\"\n",
    "    },\n",
    "    data=json.dumps({\"conversation\": 1, \"content\": \"Hello there!\", \"model\": \"Marcus\", \"provider\": \"ollama\"}),\n",
    ").json()\n",
    "print_json(post_assistant_message)\n",
    "\n",
    "assistant_id_to_delete = post_assistant_message[\"id\"]\n",
    "\n",
    "print(f\"Create a new assistant message with id {assistant_id_to_delete}\")"
   ]
  },
  {
   "cell_type": "markdown",
   "metadata": {},
   "source": [
    "### Delete this assistant message we just posted for this user"
   ]
  },
  {
   "cell_type": "code",
   "execution_count": 13,
   "metadata": {},
   "outputs": [
    {
     "name": "stdout",
     "output_type": "stream",
     "text": [
      "{\n",
      "    \"detail\": \"No AssistantMessage matches the given query.\"\n",
      "}\n"
     ]
    }
   ],
   "source": [
    "delete_assistant_message = session.delete(\n",
    "    f\"http://127.0.0.1:8000/api/v1/messages/assistant/{assistant_id_to_delete}/\",\n",
    "    headers={\n",
    "        \"Content-Type\": \"application/json\",\n",
    "        \"Authorization\": f\"Token {token}\"\n",
    "    },\n",
    ")\n",
    "if delete_assistant_message.status_code not in (200, 201, 202, 203, 204):\n",
    "    print_json(delete_assistant_message.json())\n",
    "else:\n",
    "    print(delete_assistant_message.status_code)\n",
    "    print(f\"Successfully deleted assistant message with id {assistant_id_to_delete}!\")"
   ]
  }
 ],
 "metadata": {
  "kernelspec": {
   "display_name": "bruh-llm-ui-api-Gci52Mb0-py3.11",
   "language": "python",
   "name": "python3"
  },
  "language_info": {
   "codemirror_mode": {
    "name": "ipython",
    "version": 3
   },
   "file_extension": ".py",
   "mimetype": "text/x-python",
   "name": "python",
   "nbconvert_exporter": "python",
   "pygments_lexer": "ipython3",
   "version": "3.11.5"
  }
 },
 "nbformat": 4,
 "nbformat_minor": 2
}
