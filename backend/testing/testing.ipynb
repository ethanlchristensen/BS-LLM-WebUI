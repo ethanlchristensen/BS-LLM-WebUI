{
 "cells": [
  {
   "cell_type": "code",
   "execution_count": 126,
   "metadata": {},
   "outputs": [],
   "source": [
    "import json\n",
    "import requests"
   ]
  },
  {
   "cell_type": "code",
   "execution_count": 127,
   "metadata": {},
   "outputs": [],
   "source": [
    "def print_json(data):\n",
    "    print(json.dumps(data, indent=4))"
   ]
  },
  {
   "cell_type": "markdown",
   "metadata": {},
   "source": [
    "### Get an access token for this user"
   ]
  },
  {
   "cell_type": "code",
   "execution_count": 128,
   "metadata": {},
   "outputs": [
    {
     "name": "stdout",
     "output_type": "stream",
     "text": [
      "{\n",
      "    \"message\": \"Logged in successfully\"\n",
      "}\n",
      "8mx6KLZSSMaGtdUxIiiAE0IvrQAwh1cq\n"
     ]
    }
   ],
   "source": [
    "session = requests.Session()\n",
    "\n",
    "login = session.post(\n",
    "    \"http://127.0.0.1:8000/api/v1/login/\",\n",
    "    data=json.dumps({\"username\": \"nulzo\", \"password\": \"nulzo2024!!\"}),\n",
    "    headers={\n",
    "        \"Content-Type\": \"application/json\",\n",
    "    },\n",
    ")\n",
    "\n",
    "token = login.cookies.get(\"csrftoken\")\n",
    "\n",
    "print_json(login.json())\n",
    "print(token)"
   ]
  },
  {
   "cell_type": "markdown",
   "metadata": {},
   "source": [
    "### Get the messages for this user"
   ]
  },
  {
   "cell_type": "code",
   "execution_count": 129,
   "metadata": {},
   "outputs": [
    {
     "name": "stdout",
     "output_type": "stream",
     "text": [
      "[\n",
      "    {\n",
      "        \"id\": 1,\n",
      "        \"content\": \"Hey there, how are you? Want to suck my dick?\",\n",
      "        \"created_at\": \"2024-09-08T23:46:56.561463Z\",\n",
      "        \"conversation\": 1\n",
      "    },\n",
      "    {\n",
      "        \"id\": 16,\n",
      "        \"content\": \"Hey there, how are you?\",\n",
      "        \"created_at\": \"2024-09-09T01:24:05.513408Z\",\n",
      "        \"conversation\": 1\n",
      "    }\n",
      "]\n"
     ]
    }
   ],
   "source": [
    "user_messages = session.get(\n",
    "    \"http://127.0.0.1:8000/api/v1/messages/user/\",\n",
    "    headers={\n",
    "        \"Content-Type\": \"application/json\",\n",
    "    },\n",
    ").json()\n",
    "print_json(user_messages)"
   ]
  },
  {
   "cell_type": "markdown",
   "metadata": {},
   "source": [
    "### Get a  a specific message for this user"
   ]
  },
  {
   "cell_type": "code",
   "execution_count": 139,
   "metadata": {},
   "outputs": [
    {
     "name": "stdout",
     "output_type": "stream",
     "text": [
      "{\n",
      "    \"id\": 1,\n",
      "    \"content\": \"Hey there, how are you? Want to suck my dick?\",\n",
      "    \"created_at\": \"2024-09-08T23:46:56.561463Z\",\n",
      "    \"conversation\": 1\n",
      "}\n"
     ]
    }
   ],
   "source": [
    "user_message = session.get(\n",
    "    \"http://127.0.0.1:8000/api/v1/messages/user/1\",\n",
    "    headers={\n",
    "        \"Content-Type\": \"application/json\",\n",
    "    },\n",
    ").json()\n",
    "print_json(user_message)"
   ]
  },
  {
   "cell_type": "markdown",
   "metadata": {},
   "source": [
    "### Get the conversations for this user"
   ]
  },
  {
   "cell_type": "code",
   "execution_count": 131,
   "metadata": {},
   "outputs": [
    {
     "name": "stdout",
     "output_type": "stream",
     "text": [
      "[\n",
      "    {\n",
      "        \"id\": 1,\n",
      "        \"title\": \"Getting to know you \\ud83e\\udd14\",\n",
      "        \"created_at\": \"2024-09-08T22:54:59.258457Z\",\n",
      "        \"updated_at\": \"2024-09-08T22:54:59.258457Z\",\n",
      "        \"user\": 2\n",
      "    }\n",
      "]\n"
     ]
    }
   ],
   "source": [
    "conversations = session.get(\n",
    "    \"http://127.0.0.1:8000/api/v1/conversations/\",\n",
    "    headers={\n",
    "        \"Content-Type\": \"application/json\",\n",
    "    },\n",
    ").json()\n",
    "print_json(conversations)"
   ]
  },
  {
   "cell_type": "markdown",
   "metadata": {},
   "source": [
    "### Get a specific conversation for this user"
   ]
  },
  {
   "cell_type": "code",
   "execution_count": 132,
   "metadata": {},
   "outputs": [
    {
     "name": "stdout",
     "output_type": "stream",
     "text": [
      "{\n",
      "    \"id\": 1,\n",
      "    \"title\": \"Getting to know you \\ud83e\\udd14\",\n",
      "    \"created_at\": \"2024-09-08T22:54:59.258457Z\",\n",
      "    \"updated_at\": \"2024-09-08T22:54:59.258457Z\",\n",
      "    \"user\": 2,\n",
      "    \"messages\": [\n",
      "        {\n",
      "            \"id\": 1,\n",
      "            \"content\": \"Hey there, how are you? Want to suck my dick?\",\n",
      "            \"created_at\": \"2024-09-08T23:46:56.561463Z\",\n",
      "            \"type\": \"user\"\n",
      "        },\n",
      "        {\n",
      "            \"id\": 1,\n",
      "            \"content\": \"Hell no\",\n",
      "            \"created_at\": \"2024-09-08T23:47:11.248943Z\",\n",
      "            \"type\": \"assistant\",\n",
      "            \"model\": \"Marcus\",\n",
      "            \"provider\": \"ollama\"\n",
      "        },\n",
      "        {\n",
      "            \"id\": 16,\n",
      "            \"content\": \"Hey there, how are you?\",\n",
      "            \"created_at\": \"2024-09-09T01:24:05.513408Z\",\n",
      "            \"type\": \"user\"\n",
      "        }\n",
      "    ]\n",
      "}\n"
     ]
    }
   ],
   "source": [
    "conversation = session.get(\n",
    "    \"http://127.0.0.1:8000/api/v1/conversations/1/\",\n",
    "    headers={\n",
    "        \"Content-Type\": \"application/json\",\n",
    "    },\n",
    ").json()\n",
    "print_json(conversation)"
   ]
  },
  {
   "cell_type": "markdown",
   "metadata": {},
   "source": [
    "### Post a new message for this user"
   ]
  },
  {
   "cell_type": "code",
   "execution_count": 133,
   "metadata": {},
   "outputs": [
    {
     "name": "stdout",
     "output_type": "stream",
     "text": [
      "{\n",
      "    \"id\": 18,\n",
      "    \"content\": \"Hello there!\",\n",
      "    \"created_at\": \"2024-09-09T02:14:20.905265Z\",\n",
      "    \"conversation\": 1\n",
      "}\n",
      "Create a new user message with id 18\n"
     ]
    }
   ],
   "source": [
    "post_user_message = session.post(\n",
    "    \"http://127.0.0.1:8000/api/v1/messages/user/\",\n",
    "    headers={\n",
    "        \"Content-Type\": \"application/json\",\n",
    "        \"X-CSRFTOKEN\": token\n",
    "    },\n",
    "    data=json.dumps({\"conversation\": 1, \"content\": \"Hello there!\"}),\n",
    ").json()\n",
    "print_json(post_user_message)\n",
    "\n",
    "user_id_to_delete = post_user_message[\"id\"]\n",
    "\n",
    "print(f\"Create a new user message with id {user_id_to_delete}\")"
   ]
  },
  {
   "cell_type": "markdown",
   "metadata": {},
   "source": [
    "### Delete the message we just posted for this user"
   ]
  },
  {
   "cell_type": "code",
   "execution_count": 134,
   "metadata": {},
   "outputs": [
    {
     "name": "stdout",
     "output_type": "stream",
     "text": [
      "204\n",
      "Successfully deleted message 18!\n"
     ]
    }
   ],
   "source": [
    "delete_user_message = session.delete(\n",
    "    f\"http://127.0.0.1:8000/api/v1/messages/user/{user_id_to_delete}/\",\n",
    "    headers={\n",
    "        \"Content-Type\": \"application/json\",\n",
    "        \"X-CSRFTOKEN\": token,\n",
    "    },\n",
    ")\n",
    "if delete_user_message.status_code not in (200, 201, 202, 203, 204):\n",
    "    print_json(delete_user_message.json())\n",
    "else:\n",
    "    print(delete_user_message.status_code)\n",
    "    print(f\"Successfully deleted message {user_id_to_delete}!\")"
   ]
  },
  {
   "cell_type": "markdown",
   "metadata": {},
   "source": [
    "### Get all the assistant messages for this user"
   ]
  },
  {
   "cell_type": "code",
   "execution_count": 135,
   "metadata": {},
   "outputs": [
    {
     "name": "stdout",
     "output_type": "stream",
     "text": [
      "[\n",
      "    {\n",
      "        \"id\": 1,\n",
      "        \"content\": \"Hell no\",\n",
      "        \"model\": \"Marcus\",\n",
      "        \"provider\": \"ollama\",\n",
      "        \"created_at\": \"2024-09-08T23:47:11.248943Z\",\n",
      "        \"conversation\": 1\n",
      "    }\n",
      "]\n"
     ]
    }
   ],
   "source": [
    "assistant_messages = session.get(\n",
    "    \"http://127.0.0.1:8000/api/v1/messages/assistant/\",\n",
    "    headers={\n",
    "        \"Content-Type\": \"application/json\",\n",
    "    },\n",
    ").json()\n",
    "print_json(assistant_messages)"
   ]
  },
  {
   "cell_type": "markdown",
   "metadata": {},
   "source": [
    "### Get a specific assistant message for this user"
   ]
  },
  {
   "cell_type": "code",
   "execution_count": 136,
   "metadata": {},
   "outputs": [
    {
     "name": "stdout",
     "output_type": "stream",
     "text": [
      "{\n",
      "    \"id\": 1,\n",
      "    \"content\": \"Hell no\",\n",
      "    \"model\": \"Marcus\",\n",
      "    \"provider\": \"ollama\",\n",
      "    \"created_at\": \"2024-09-08T23:47:11.248943Z\",\n",
      "    \"conversation\": 1\n",
      "}\n"
     ]
    }
   ],
   "source": [
    "assistant_message = session.get(\n",
    "    \"http://127.0.0.1:8000/api/v1/messages/assistant/1\",\n",
    "    headers={\n",
    "        \"Content-Type\": \"application/json\",\n",
    "    },\n",
    ").json()\n",
    "print_json(assistant_message)"
   ]
  },
  {
   "cell_type": "markdown",
   "metadata": {},
   "source": [
    "### Post a new assistant message for this user"
   ]
  },
  {
   "cell_type": "code",
   "execution_count": 137,
   "metadata": {},
   "outputs": [
    {
     "name": "stdout",
     "output_type": "stream",
     "text": [
      "{\n",
      "    \"id\": 8,\n",
      "    \"content\": \"Hello there!\",\n",
      "    \"model\": \"Marcus\",\n",
      "    \"provider\": \"ollama\",\n",
      "    \"created_at\": \"2024-09-09T02:14:20.971976Z\",\n",
      "    \"conversation\": 1\n",
      "}\n",
      "Create a new assistant message with id 8\n"
     ]
    }
   ],
   "source": [
    "post_assistant_message = session.post(\n",
    "    \"http://127.0.0.1:8000/api/v1/messages/assistant/\",\n",
    "    headers={\n",
    "        \"Content-Type\": \"application/json\",\n",
    "        \"X-CSRFTOKEN\": token\n",
    "    },\n",
    "    data=json.dumps({\"conversation\": 1, \"content\": \"Hello there!\", \"model\": \"Marcus\", \"provider\": \"ollama\"}),\n",
    ").json()\n",
    "print_json(post_assistant_message)\n",
    "\n",
    "assistant_id_to_delete = post_assistant_message[\"id\"]\n",
    "\n",
    "print(f\"Create a new assistant message with id {assistant_id_to_delete}\")"
   ]
  },
  {
   "cell_type": "markdown",
   "metadata": {},
   "source": [
    "### Delete this assistant message we just posted for this user"
   ]
  },
  {
   "cell_type": "code",
   "execution_count": 138,
   "metadata": {},
   "outputs": [
    {
     "name": "stdout",
     "output_type": "stream",
     "text": [
      "204\n",
      "Successfully deleted assistant message with id 8!\n"
     ]
    }
   ],
   "source": [
    "delete_assistant_message = session.delete(\n",
    "    f\"http://127.0.0.1:8000/api/v1/messages/assistant/{assistant_id_to_delete}/\",\n",
    "    headers={\n",
    "        \"Content-Type\": \"application/json\",\n",
    "        \"X-CSRFTOKEN\": token,\n",
    "    },\n",
    ")\n",
    "if delete_assistant_message.status_code not in (200, 201, 202, 203, 204):\n",
    "    print_json(delete_assistant_message.json())\n",
    "else:\n",
    "    print(delete_assistant_message.status_code)\n",
    "    print(f\"Successfully deleted assistant message with id {assistant_id_to_delete}!\")"
   ]
  }
 ],
 "metadata": {
  "kernelspec": {
   "display_name": "bruh-llm-ui-api-Gci52Mb0-py3.11",
   "language": "python",
   "name": "python3"
  },
  "language_info": {
   "codemirror_mode": {
    "name": "ipython",
    "version": 3
   },
   "file_extension": ".py",
   "mimetype": "text/x-python",
   "name": "python",
   "nbconvert_exporter": "python",
   "pygments_lexer": "ipython3",
   "version": "3.11.5"
  }
 },
 "nbformat": 4,
 "nbformat_minor": 2
}
