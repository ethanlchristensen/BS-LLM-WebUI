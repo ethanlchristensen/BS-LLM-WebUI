{
 "cells": [
  {
   "cell_type": "code",
   "execution_count": 1,
   "metadata": {},
   "outputs": [],
   "source": [
    "import json\n",
    "import requests"
   ]
  },
  {
   "cell_type": "code",
   "execution_count": 2,
   "metadata": {},
   "outputs": [],
   "source": [
    "def print_json(data):\n",
    "    print(json.dumps(data, indent=4))"
   ]
  },
  {
   "cell_type": "markdown",
   "metadata": {},
   "source": [
    "### Get an access token for this user"
   ]
  },
  {
   "cell_type": "code",
   "execution_count": 3,
   "metadata": {},
   "outputs": [
    {
     "name": "stdout",
     "output_type": "stream",
     "text": [
      "{\n",
      "    \"expiry\": \"2024-09-14T14:45:23.889380Z\",\n",
      "    \"token\": \"4d742bf07c7526a8704c316240321a6fd6ca285cba24e71ab6c923be1971c458\"\n",
      "}\n",
      "4d742bf07c7526a8704c316240321a6fd6ca285cba24e71ab6c923be1971c458\n"
     ]
    }
   ],
   "source": [
    "session = requests.Session()\n",
    "\n",
    "login = session.post(\n",
    "    \"http://127.0.0.1:8000/api/v1/login/\",\n",
    "    data=json.dumps({\"username\": \"ethan\", \"password\": \"ethan\"}),\n",
    "    headers={\n",
    "        \"Content-Type\": \"application/json\",\n",
    "    },\n",
    ")\n",
    "\n",
    "token = login.json().get(\"token\")\n",
    "\n",
    "print_json(login.json())\n",
    "print(token)"
   ]
  },
  {
   "cell_type": "markdown",
   "metadata": {},
   "source": [
    "### Get the messages for this user"
   ]
  },
  {
   "cell_type": "code",
   "execution_count": 55,
   "metadata": {},
   "outputs": [
    {
     "name": "stdout",
     "output_type": "stream",
     "text": [
      "[\n",
      "    {\n",
      "        \"id\": 2,\n",
      "        \"content\": \"How do I write hello world in python?\",\n",
      "        \"created_at\": \"2024-09-09T00:05:54.671993Z\",\n",
      "        \"conversation\": 2\n",
      "    },\n",
      "    {\n",
      "        \"id\": 29,\n",
      "        \"content\": \"Hello there!\",\n",
      "        \"created_at\": \"2024-09-14T03:50:05.218929Z\",\n",
      "        \"conversation\": 2\n",
      "    },\n",
      "    {\n",
      "        \"id\": 30,\n",
      "        \"content\": \"Hello there!\",\n",
      "        \"created_at\": \"2024-09-14T03:50:05.708461Z\",\n",
      "        \"conversation\": 2\n",
      "    },\n",
      "    {\n",
      "        \"id\": 31,\n",
      "        \"content\": \"Hello there!\",\n",
      "        \"created_at\": \"2024-09-14T03:50:05.889599Z\",\n",
      "        \"conversation\": 2\n",
      "    },\n",
      "    {\n",
      "        \"id\": 32,\n",
      "        \"content\": \"Hello there!\",\n",
      "        \"created_at\": \"2024-09-14T03:50:06.070602Z\",\n",
      "        \"conversation\": 2\n",
      "    },\n",
      "    {\n",
      "        \"id\": 33,\n",
      "        \"content\": \"Hello there!\",\n",
      "        \"created_at\": \"2024-09-14T03:50:06.222251Z\",\n",
      "        \"conversation\": 2\n",
      "    }\n",
      "]\n"
     ]
    }
   ],
   "source": [
    "user_messages = session.get(\n",
    "    \"http://127.0.0.1:8000/api/v1/messages/user/\",\n",
    "    headers={\n",
    "        \"Content-Type\": \"application/json\",\n",
    "        \"Authorization\": f\"Token {token}\"\n",
    "    },\n",
    ").json()\n",
    "print_json(user_messages)"
   ]
  },
  {
   "cell_type": "markdown",
   "metadata": {},
   "source": [
    "### Get a  a specific message for this user"
   ]
  },
  {
   "cell_type": "code",
   "execution_count": 56,
   "metadata": {},
   "outputs": [
    {
     "name": "stdout",
     "output_type": "stream",
     "text": [
      "{\n",
      "    \"detail\": \"No UserMessage matches the given query.\"\n",
      "}\n"
     ]
    }
   ],
   "source": [
    "user_message = session.get(\n",
    "    \"http://127.0.0.1:8000/api/v1/messages/user/1\",\n",
    "    headers={\n",
    "        \"Content-Type\": \"application/json\",\n",
    "        \"Authorization\": f\"Token {token}\"\n",
    "    },\n",
    ").json()\n",
    "print_json(user_message)"
   ]
  },
  {
   "cell_type": "markdown",
   "metadata": {},
   "source": [
    "### Get the conversations for this user"
   ]
  },
  {
   "cell_type": "code",
   "execution_count": 4,
   "metadata": {},
   "outputs": [
    {
     "name": "stdout",
     "output_type": "stream",
     "text": [
      "[\n",
      "    {\n",
      "        \"id\": 2,\n",
      "        \"title\": \"Hello World Python \\ud83d\\udc0d\",\n",
      "        \"created_at\": \"2024-09-09T00:05:34.286368Z\",\n",
      "        \"updated_at\": \"2024-09-09T00:05:34.286368Z\",\n",
      "        \"user\": 1\n",
      "    }\n",
      "]\n"
     ]
    }
   ],
   "source": [
    "conversations = session.get(\n",
    "    \"http://127.0.0.1:8000/api/v1/conversations/\",\n",
    "    headers={\n",
    "        \"Content-Type\": \"application/json\",\n",
    "        \"Authorization\": f\"Token {token}\"\n",
    "    },\n",
    ").json()\n",
    "print_json(conversations)"
   ]
  },
  {
   "cell_type": "markdown",
   "metadata": {},
   "source": [
    "### Get a specific conversation for this user"
   ]
  },
  {
   "cell_type": "code",
   "execution_count": 58,
   "metadata": {},
   "outputs": [
    {
     "name": "stdout",
     "output_type": "stream",
     "text": [
      "{\n",
      "    \"id\": 2,\n",
      "    \"title\": \"Hello World Python \\ud83d\\udc0d\",\n",
      "    \"created_at\": \"2024-09-09T00:05:34.286368Z\",\n",
      "    \"updated_at\": \"2024-09-09T00:05:34.286368Z\",\n",
      "    \"user\": 1,\n",
      "    \"messages\": [\n",
      "        {\n",
      "            \"id\": 2,\n",
      "            \"content\": \"How do I write hello world in python?\",\n",
      "            \"created_at\": \"2024-09-09T00:05:54.671993Z\",\n",
      "            \"type\": \"user\"\n",
      "        },\n",
      "        {\n",
      "            \"id\": 29,\n",
      "            \"content\": \"Hello there!\",\n",
      "            \"created_at\": \"2024-09-14T03:50:05.218929Z\",\n",
      "            \"type\": \"user\"\n",
      "        },\n",
      "        {\n",
      "            \"id\": 30,\n",
      "            \"content\": \"Hello there!\",\n",
      "            \"created_at\": \"2024-09-14T03:50:05.708461Z\",\n",
      "            \"type\": \"user\"\n",
      "        },\n",
      "        {\n",
      "            \"id\": 31,\n",
      "            \"content\": \"Hello there!\",\n",
      "            \"created_at\": \"2024-09-14T03:50:05.889599Z\",\n",
      "            \"type\": \"user\"\n",
      "        },\n",
      "        {\n",
      "            \"id\": 32,\n",
      "            \"content\": \"Hello there!\",\n",
      "            \"created_at\": \"2024-09-14T03:50:06.070602Z\",\n",
      "            \"type\": \"user\"\n",
      "        },\n",
      "        {\n",
      "            \"id\": 33,\n",
      "            \"content\": \"Hello there!\",\n",
      "            \"created_at\": \"2024-09-14T03:50:06.222251Z\",\n",
      "            \"type\": \"user\"\n",
      "        }\n",
      "    ]\n",
      "}\n"
     ]
    }
   ],
   "source": [
    "conversation = session.get(\n",
    "    \"http://127.0.0.1:8000/api/v1/conversations/2/\",\n",
    "    headers={\n",
    "        \"Content-Type\": \"application/json\",\n",
    "        \"Authorization\": f\"Token {token}\"\n",
    "    },\n",
    ").json()\n",
    "print_json(conversation)"
   ]
  },
  {
   "cell_type": "markdown",
   "metadata": {},
   "source": [
    "### Post a new message for this user"
   ]
  },
  {
   "cell_type": "code",
   "execution_count": 59,
   "metadata": {},
   "outputs": [
    {
     "name": "stdout",
     "output_type": "stream",
     "text": [
      "{\n",
      "    \"id\": 34,\n",
      "    \"content\": \"Hello there!\",\n",
      "    \"created_at\": \"2024-09-14T03:50:11.843167Z\",\n",
      "    \"conversation\": 2\n",
      "}\n",
      "Create a new user message with id 34\n"
     ]
    }
   ],
   "source": [
    "post_user_message = session.post(\n",
    "    \"http://127.0.0.1:8000/api/v1/messages/user/\",\n",
    "    headers={\n",
    "        \"Content-Type\": \"application/json\",\n",
    "        \"Authorization\": f\"Token {token}\"\n",
    "    },\n",
    "    data=json.dumps({\"conversation\": 2, \"content\": \"Hello there!\"}),\n",
    ").json()\n",
    "print_json(post_user_message)\n",
    "\n",
    "user_id_to_delete = post_user_message[\"id\"]\n",
    "\n",
    "print(f\"Create a new user message with id {user_id_to_delete}\")"
   ]
  },
  {
   "cell_type": "markdown",
   "metadata": {},
   "source": [
    "### Delete the message we just posted for this user"
   ]
  },
  {
   "cell_type": "code",
   "execution_count": 60,
   "metadata": {},
   "outputs": [
    {
     "name": "stdout",
     "output_type": "stream",
     "text": [
      "204\n",
      "Successfully deleted message 34!\n"
     ]
    }
   ],
   "source": [
    "delete_user_message = session.delete(\n",
    "    f\"http://127.0.0.1:8000/api/v1/messages/user/{user_id_to_delete}/\",\n",
    "    headers={\n",
    "        \"Content-Type\": \"application/json\",\n",
    "        \"Authorization\": f\"Token {token}\"\n",
    "    },\n",
    ")\n",
    "if delete_user_message.status_code not in (200, 201, 202, 203, 204):\n",
    "    print_json(delete_user_message.json())\n",
    "else:\n",
    "    print(delete_user_message.status_code)\n",
    "    print(f\"Successfully deleted message {user_id_to_delete}!\")"
   ]
  },
  {
   "cell_type": "markdown",
   "metadata": {},
   "source": [
    "### Get all the assistant messages for this user"
   ]
  },
  {
   "cell_type": "code",
   "execution_count": 61,
   "metadata": {},
   "outputs": [
    {
     "name": "stdout",
     "output_type": "stream",
     "text": [
      "[]\n"
     ]
    }
   ],
   "source": [
    "assistant_messages = session.get(\n",
    "    \"http://127.0.0.1:8000/api/v1/messages/assistant/\",\n",
    "    headers={\n",
    "        \"Content-Type\": \"application/json\",\n",
    "        \"Authorization\": f\"Token {token}\"\n",
    "    },\n",
    ").json()\n",
    "print_json(assistant_messages)"
   ]
  },
  {
   "cell_type": "markdown",
   "metadata": {},
   "source": [
    "### Get a specific assistant message for this user"
   ]
  },
  {
   "cell_type": "code",
   "execution_count": 62,
   "metadata": {},
   "outputs": [
    {
     "name": "stdout",
     "output_type": "stream",
     "text": [
      "{\n",
      "    \"detail\": \"No AssistantMessage matches the given query.\"\n",
      "}\n"
     ]
    }
   ],
   "source": [
    "assistant_message = session.get(\n",
    "    \"http://127.0.0.1:8000/api/v1/messages/assistant/1\",\n",
    "    headers={\n",
    "        \"Content-Type\": \"application/json\",\n",
    "        \"Authorization\": f\"Token {token}\"\n",
    "    },\n",
    ").json()\n",
    "print_json(assistant_message)"
   ]
  },
  {
   "cell_type": "markdown",
   "metadata": {},
   "source": [
    "### Post a new assistant message for this user"
   ]
  },
  {
   "cell_type": "code",
   "execution_count": 63,
   "metadata": {},
   "outputs": [
    {
     "name": "stdout",
     "output_type": "stream",
     "text": [
      "{\n",
      "    \"id\": 14,\n",
      "    \"content\": \"Hello there!\",\n",
      "    \"model\": \"Marcus\",\n",
      "    \"provider\": \"ollama\",\n",
      "    \"created_at\": \"2024-09-14T03:50:11.898593Z\",\n",
      "    \"conversation\": 1\n",
      "}\n",
      "Create a new assistant message with id 14\n"
     ]
    }
   ],
   "source": [
    "post_assistant_message = session.post(\n",
    "    \"http://127.0.0.1:8000/api/v1/messages/assistant/\",\n",
    "    headers={\n",
    "        \"Content-Type\": \"application/json\",\n",
    "        \"Authorization\": f\"Token {token}\"\n",
    "    },\n",
    "    data=json.dumps({\"conversation\": 1, \"content\": \"Hello there!\", \"model\": \"Marcus\", \"provider\": \"ollama\"}),\n",
    ").json()\n",
    "print_json(post_assistant_message)\n",
    "\n",
    "assistant_id_to_delete = post_assistant_message[\"id\"]\n",
    "\n",
    "print(f\"Create a new assistant message with id {assistant_id_to_delete}\")"
   ]
  },
  {
   "cell_type": "markdown",
   "metadata": {},
   "source": [
    "### Delete this assistant message we just posted for this user"
   ]
  },
  {
   "cell_type": "code",
   "execution_count": 64,
   "metadata": {},
   "outputs": [
    {
     "name": "stdout",
     "output_type": "stream",
     "text": [
      "{\n",
      "    \"detail\": \"No AssistantMessage matches the given query.\"\n",
      "}\n"
     ]
    }
   ],
   "source": [
    "delete_assistant_message = session.delete(\n",
    "    f\"http://127.0.0.1:8000/api/v1/messages/assistant/{assistant_id_to_delete}/\",\n",
    "    headers={\n",
    "        \"Content-Type\": \"application/json\",\n",
    "        \"Authorization\": f\"Token {token}\"\n",
    "    },\n",
    ")\n",
    "if delete_assistant_message.status_code not in (200, 201, 202, 203, 204):\n",
    "    print_json(delete_assistant_message.json())\n",
    "else:\n",
    "    print(delete_assistant_message.status_code)\n",
    "    print(f\"Successfully deleted assistant message with id {assistant_id_to_delete}!\")"
   ]
  }
 ],
 "metadata": {
  "kernelspec": {
   "display_name": "bruh-llm-ui-api-Gci52Mb0-py3.11",
   "language": "python",
   "name": "python3"
  },
  "language_info": {
   "codemirror_mode": {
    "name": "ipython",
    "version": 3
   },
   "file_extension": ".py",
   "mimetype": "text/x-python",
   "name": "python",
   "nbconvert_exporter": "python",
   "pygments_lexer": "ipython3",
   "version": "3.11.5"
  }
 },
 "nbformat": 4,
 "nbformat_minor": 2
}
